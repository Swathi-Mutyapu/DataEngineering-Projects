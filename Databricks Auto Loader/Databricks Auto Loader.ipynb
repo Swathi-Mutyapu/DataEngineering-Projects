{
 "cells": [
  {
   "cell_type": "markdown",
   "metadata": {
    "application/vnd.databricks.v1+cell": {
     "cellMetadata": {},
     "inputWidgets": {},
     "nuid": "9d0836fe-f52b-4a36-8817-75b3177dae07",
     "showTitle": false,
     "tableResultSettingsMap": {},
     "title": ""
    }
   },
   "source": [
    "## Databricks Auto Loader"
   ]
  },
  {
   "cell_type": "markdown",
   "metadata": {
    "application/vnd.databricks.v1+cell": {
     "cellMetadata": {},
     "inputWidgets": {},
     "nuid": "90e1fa43-bad3-4ad0-9aad-958a72badbca",
     "showTitle": false,
     "tableResultSettingsMap": {},
     "title": ""
    }
   },
   "source": [
    "###### Step 1: Creating input folder in volume, use data ingestion --> upload files to a volume --> give a name to volume you want to create and copy the path present below . In order process other cloud files in S3 or GCS you can provide that path\n",
    " \n",
    "We simulate daily data arrival by creating date-based subfolders under volume (e.g., /2025/08/01/). This structure mimics real-world pipelines where files arrive daily in partitioned folders."
   ]
  },
  {
   "cell_type": "code",
   "execution_count": 0,
   "metadata": {
    "application/vnd.databricks.v1+cell": {
     "cellMetadata": {
      "byteLimit": 2048000,
      "rowLimit": 10000
     },
     "inputWidgets": {},
     "nuid": "7da75379-2ce3-4dbc-bdbe-5d4516780958",
     "showTitle": false,
     "tableResultSettingsMap": {},
     "title": ""
    }
   },
   "outputs": [
    {
     "output_type": "execute_result",
     "data": {
      "text/plain": [
       "True"
      ]
     },
     "execution_count": 115,
     "metadata": {},
     "output_type": "execute_result"
    }
   ],
   "source": [
    "dbutils.fs.mkdirs(\"/Volumes/workspace/default/autoloader_demo/2025/08/01\")\n",
    "dbutils.fs.mkdirs(\"/Volumes/workspace/default/autoloader_demo/2025/08/02\")\n",
    "dbutils.fs.mkdirs(\"/Volumes/workspace/default/autoloader_demo/2025/08/03\")\n",
    "dbutils.fs.mkdirs(\"/Volumes/workspace/default/autoloader_demo/2025/08/04\")\n",
    "dbutils.fs.mkdirs(\"/Volumes/workspace/default/autoloader_demo/2025/08/05\")"
   ]
  },
  {
   "cell_type": "markdown",
   "metadata": {
    "application/vnd.databricks.v1+cell": {
     "cellMetadata": {},
     "inputWidgets": {},
     "nuid": "4158fe3b-6ab3-40ba-afa0-9d3ef818e7aa",
     "showTitle": false,
     "tableResultSettingsMap": {},
     "title": ""
    }
   },
   "source": [
    "**Step 2: Set Paths for Auto Loader**\n",
    "\n",
    "input_path: where Auto Loader watches for new files.\n",
    "\n",
    "schema_path: where the inferred schema is stored.\n",
    "\n",
    "checkpoint_path: where processing state is saved to ensure exactly-once ingestion."
   ]
  },
  {
   "cell_type": "code",
   "execution_count": 0,
   "metadata": {
    "application/vnd.databricks.v1+cell": {
     "cellMetadata": {
      "byteLimit": 2048000,
      "rowLimit": 10000
     },
     "inputWidgets": {},
     "nuid": "b8d28d98-2c26-4650-9258-27feccd4709c",
     "showTitle": false,
     "tableResultSettingsMap": {},
     "title": ""
    }
   },
   "outputs": [
    {
     "output_type": "execute_result",
     "data": {
      "text/plain": [
       "DataFrame[database: string, volume_name: string]"
      ]
     },
     "execution_count": 116,
     "metadata": {},
     "output_type": "execute_result"
    }
   ],
   "source": [
    "spark.sql(\"SHOW VOLUMES\")"
   ]
  },
  {
   "cell_type": "code",
   "execution_count": 0,
   "metadata": {
    "application/vnd.databricks.v1+cell": {
     "cellMetadata": {
      "byteLimit": 2048000,
      "rowLimit": 10000
     },
     "inputWidgets": {},
     "nuid": "4292156b-2b0b-4c3c-bc61-e14dc4f62fa3",
     "showTitle": false,
     "tableResultSettingsMap": {},
     "title": ""
    }
   },
   "outputs": [
    {
     "output_type": "execute_result",
     "data": {
      "text/plain": [
       "True"
      ]
     },
     "execution_count": 117,
     "metadata": {},
     "output_type": "execute_result"
    }
   ],
   "source": [
    "dbutils.fs.mkdirs(\"/Volumes/workspace/default/autoloader_demo/autoloader_demo_schema\")\n",
    "dbutils.fs.mkdirs(\"/Volumes/workspace/default/autoloader_demo/autoloader_demo_checkpoint\")"
   ]
  },
  {
   "cell_type": "markdown",
   "metadata": {
    "application/vnd.databricks.v1+cell": {
     "cellMetadata": {},
     "inputWidgets": {},
     "nuid": "049a3ba1-35de-4269-a920-2aabcfbff65a",
     "showTitle": false,
     "tableResultSettingsMap": {},
     "title": ""
    }
   },
   "source": [
    "**Step 3: Set Schema and Checkpoint Paths**"
   ]
  },
  {
   "cell_type": "code",
   "execution_count": 0,
   "metadata": {
    "application/vnd.databricks.v1+cell": {
     "cellMetadata": {
      "byteLimit": 2048000,
      "rowLimit": 10000
     },
     "inputWidgets": {},
     "nuid": "3a4ca2ba-2e63-46c5-b56b-be0db91c84f1",
     "showTitle": false,
     "tableResultSettingsMap": {},
     "title": ""
    }
   },
   "outputs": [],
   "source": [
    "schema_path = \"/Volumes/workspace/default/autoloader_demo/autoloader_demo_schema\"\n",
    "checkpoint_path = \"/Volumes/workspace/default/autoloader_demo/autoloader_demo_checkpoint1\"\n"
   ]
  },
  {
   "cell_type": "code",
   "execution_count": 0,
   "metadata": {
    "application/vnd.databricks.v1+cell": {
     "cellMetadata": {
      "byteLimit": 2048000,
      "rowLimit": 10000
     },
     "inputWidgets": {},
     "nuid": "36a393fd-d43f-4507-91ac-e2b08b7baa46",
     "showTitle": false,
     "tableResultSettingsMap": {},
     "title": ""
    }
   },
   "outputs": [],
   "source": [
    "import pandas as pd\n",
    "\n",
    "df_day = pd.DataFrame({\n",
    "    \"order_id\": [101, 102],\n",
    "    \"customer\": [\"Grace\", \"Liam\"],\n",
    "    \"amount\": [210.0, 320.5]\n",
    "})\n",
    "\n",
    "df_day.to_csv(\"/Volumes/workspace/default/autoloader_demo/2025/08/01/sales_20250801.csv\", index=False)\n"
   ]
  },
  {
   "cell_type": "code",
   "execution_count": 0,
   "metadata": {
    "application/vnd.databricks.v1+cell": {
     "cellMetadata": {
      "byteLimit": 2048000,
      "rowLimit": 10000
     },
     "inputWidgets": {},
     "nuid": "34f47026-df4e-4384-82e5-bc20f39ab72c",
     "showTitle": false,
     "tableResultSettingsMap": {},
     "title": ""
    }
   },
   "outputs": [],
   "source": [
    "df_day = pd.DataFrame({\n",
    "    \"order_id\": [103, 104],\n",
    "    \"customer\": [\"Rita\", \"Sita\"],\n",
    "    \"amount\": [215.0, 320.5]\n",
    "})\n",
    "\n",
    "df_day.to_csv(\"/Volumes/workspace/default/autoloader_demo/2025/08/02/sales_20250802.csv\", index=False)"
   ]
  },
  {
   "cell_type": "code",
   "execution_count": 0,
   "metadata": {
    "application/vnd.databricks.v1+cell": {
     "cellMetadata": {
      "byteLimit": 2048000,
      "rowLimit": 10000
     },
     "inputWidgets": {},
     "nuid": "dc637ec0-4649-4323-b50d-6cce9aeded82",
     "showTitle": false,
     "tableResultSettingsMap": {},
     "title": ""
    }
   },
   "outputs": [],
   "source": [
    "df_day = pd.DataFrame({\n",
    "    \"order_id\": [105, 106],\n",
    "    \"customer\": [\"X\", \"Y\"],\n",
    "    \"amount\": [215.0, 325.5]\n",
    "})\n",
    "\n",
    "df_day.to_csv(\"/Volumes/workspace/default/autoloader_demo/2025/08/03/sales_20250803.csv\", index=False)"
   ]
  },
  {
   "cell_type": "markdown",
   "metadata": {
    "application/vnd.databricks.v1+cell": {
     "cellMetadata": {},
     "inputWidgets": {},
     "nuid": "3acaf415-950a-48ef-ac90-fcb298540893",
     "showTitle": false,
     "tableResultSettingsMap": {},
     "title": ""
    }
   },
   "source": [
    "**Step 4: Reading with Auto Loader**"
   ]
  },
  {
   "cell_type": "code",
   "execution_count": 0,
   "metadata": {
    "application/vnd.databricks.v1+cell": {
     "cellMetadata": {
      "byteLimit": 2048000,
      "rowLimit": 10000
     },
     "inputWidgets": {},
     "nuid": "50702571-4c7f-4d28-b1f9-828213054def",
     "showTitle": false,
     "tableResultSettingsMap": {},
     "title": ""
    }
   },
   "outputs": [],
   "source": [
    "df=(\n",
    "    spark.readStream.format(\"cloudFiles\") \\\n",
    "    .option(\"cloudFiles.format\", \"csv\") \\\n",
    "    .option(\"pathGlobFilter\", \"*.csv\") \\\n",
    "    .option(\"header\",\"true\")\n",
    "    .option(\"cloudFiles.schemaHints\",\"amount double\")\n",
    "    .option(\"cloudFiles.schemaLocation\", schema_path) \\\n",
    "    .load(\"/Volumes/workspace/default/autoloader_demo/2025/08/*/\")\n",
    ")"
   ]
  },
  {
   "cell_type": "markdown",
   "metadata": {
    "application/vnd.databricks.v1+cell": {
     "cellMetadata": {},
     "inputWidgets": {},
     "nuid": "493a85ef-956b-4919-9f19-b104e6dfa2f0",
     "showTitle": false,
     "tableResultSettingsMap": {},
     "title": ""
    }
   },
   "source": [
    "**Step 5:Writing to a Delta Table**"
   ]
  },
  {
   "cell_type": "code",
   "execution_count": 0,
   "metadata": {
    "application/vnd.databricks.v1+cell": {
     "cellMetadata": {
      "byteLimit": 2048000,
      "rowLimit": 10000
     },
     "inputWidgets": {},
     "nuid": "1b506a7c-d908-47bc-bb89-56fbffcc32d6",
     "showTitle": false,
     "tableResultSettingsMap": {},
     "title": ""
    }
   },
   "outputs": [
    {
     "output_type": "display_data",
     "data": {
      "text/html": [
       "<style scoped>\n",
       "  .table-result-container {\n",
       "    max-height: 300px;\n",
       "    overflow: auto;\n",
       "  }\n",
       "  table, th, td {\n",
       "    border: 1px solid black;\n",
       "    border-collapse: collapse;\n",
       "  }\n",
       "  th, td {\n",
       "    padding: 5px;\n",
       "  }\n",
       "  th {\n",
       "    text-align: left;\n",
       "  }\n",
       "</style><div class='table-result-container'><table class='table-result'><thead style='background-color: white'><tr><th>order_id</th><th>customer</th><th>amount</th><th>_rescued_data</th><th>file_name</th></tr></thead><tbody><tr><td>101</td><td>Grace</td><td>210.0</td><td>null</td><td>sales_20250801.csv</td></tr><tr><td>102</td><td>Liam</td><td>320.5</td><td>null</td><td>sales_20250801.csv</td></tr><tr><td>103</td><td>Rita</td><td>215.0</td><td>null</td><td>sales_20250802.csv</td></tr><tr><td>104</td><td>Sita</td><td>320.5</td><td>null</td><td>sales_20250802.csv</td></tr><tr><td>105</td><td>X</td><td>215.0</td><td>null</td><td>sales_20250803.csv</td></tr><tr><td>106</td><td>Y</td><td>325.5</td><td>null</td><td>sales_20250803.csv</td></tr></tbody></table></div>"
      ]
     },
     "metadata": {
      "application/vnd.databricks.v1+output": {
       "addedWidgets": {},
       "aggData": [],
       "aggError": "",
       "aggOverflow": false,
       "aggSchema": [],
       "aggSeriesLimitReached": false,
       "aggType": "",
       "arguments": {},
       "columnCustomDisplayInfos": {},
       "data": [
        [
         "101",
         "Grace",
         210.0,
         null,
         "sales_20250801.csv"
        ],
        [
         "102",
         "Liam",
         320.5,
         null,
         "sales_20250801.csv"
        ],
        [
         "103",
         "Rita",
         215.0,
         null,
         "sales_20250802.csv"
        ],
        [
         "104",
         "Sita",
         320.5,
         null,
         "sales_20250802.csv"
        ],
        [
         "105",
         "X",
         215.0,
         null,
         "sales_20250803.csv"
        ],
        [
         "106",
         "Y",
         325.5,
         null,
         "sales_20250803.csv"
        ]
       ],
       "datasetInfos": [],
       "dbfsResultPath": null,
       "isJsonSchema": true,
       "metadata": {},
       "overflow": false,
       "plotOptions": {
        "customPlotOptions": {},
        "displayType": "table",
        "pivotAggregation": null,
        "pivotColumns": null,
        "xColumns": null,
        "yColumns": null
       },
       "removedWidgets": [],
       "schema": [
        {
         "metadata": "{}",
         "name": "order_id",
         "type": "\"string\""
        },
        {
         "metadata": "{}",
         "name": "customer",
         "type": "\"string\""
        },
        {
         "metadata": "{}",
         "name": "amount",
         "type": "\"double\""
        },
        {
         "metadata": "{}",
         "name": "_rescued_data",
         "type": "\"string\""
        },
        {
         "metadata": "{}",
         "name": "file_name",
         "type": "\"string\""
        }
       ],
       "type": "table"
      }
     },
     "output_type": "display_data"
    }
   ],
   "source": [
    "from pyspark.sql.functions import col\n",
    "df.withColumn(\"file_name\", col(\"_metadata.file_name\")) \\\n",
    "  .writeStream \\\n",
    "    .format(\"delta\") \\\n",
    "    .option(\"checkpointLocation\", checkpoint_path) \\\n",
    "    .outputMode(\"append\") \\\n",
    "    .option(\"mergeSchema\", \"true\") \\\n",
    "    .trigger(availableNow=True) \\\n",
    "    .table(\"autoloader_demo\")\n",
    "display(spark.sql(\"select * from autoloader_demo\"))"
   ]
  },
  {
   "cell_type": "code",
   "execution_count": 0,
   "metadata": {
    "application/vnd.databricks.v1+cell": {
     "cellMetadata": {
      "byteLimit": 2048000,
      "implicitDf": true,
      "rowLimit": 10000
     },
     "inputWidgets": {},
     "nuid": "8850700c-6123-4986-ae37-c46f1073fd33",
     "showTitle": false,
     "tableResultSettingsMap": {},
     "title": ""
    }
   },
   "outputs": [
    {
     "output_type": "display_data",
     "data": {
      "text/html": [
       "<style scoped>\n",
       "  .table-result-container {\n",
       "    max-height: 300px;\n",
       "    overflow: auto;\n",
       "  }\n",
       "  table, th, td {\n",
       "    border: 1px solid black;\n",
       "    border-collapse: collapse;\n",
       "  }\n",
       "  th, td {\n",
       "    padding: 5px;\n",
       "  }\n",
       "  th {\n",
       "    text-align: left;\n",
       "  }\n",
       "</style><div class='table-result-container'><table class='table-result'><thead style='background-color: white'><tr><th>file_name</th><th>count</th></tr></thead><tbody><tr><td>sales_20250803.csv</td><td>2</td></tr><tr><td>sales_20250802.csv</td><td>2</td></tr><tr><td>sales_20250801.csv</td><td>2</td></tr><tr><td>sales_20250805.csv</td><td>2</td></tr><tr><td>sales_20250804.csv</td><td>2</td></tr></tbody></table></div>"
      ]
     },
     "metadata": {
      "application/vnd.databricks.v1+output": {
       "addedWidgets": {},
       "aggData": [],
       "aggError": "",
       "aggOverflow": false,
       "aggSchema": [],
       "aggSeriesLimitReached": false,
       "aggType": "",
       "arguments": {},
       "columnCustomDisplayInfos": {},
       "data": [
        [
         "sales_20250803.csv",
         2
        ],
        [
         "sales_20250802.csv",
         2
        ],
        [
         "sales_20250801.csv",
         2
        ],
        [
         "sales_20250805.csv",
         2
        ],
        [
         "sales_20250804.csv",
         2
        ]
       ],
       "datasetInfos": [
        {
         "name": "_sqldf",
         "schema": {
          "fields": [
           {
            "metadata": {},
            "name": "file_name",
            "nullable": true,
            "type": "string"
           },
           {
            "metadata": {},
            "name": "count",
            "nullable": false,
            "type": "long"
           }
          ],
          "type": "struct"
         },
         "tableIdentifier": null,
         "typeStr": "pyspark.sql.connect.dataframe.DataFrame"
        }
       ],
       "dbfsResultPath": null,
       "isJsonSchema": true,
       "metadata": {
        "createTempViewForImplicitDf": true,
        "dataframeName": "_sqldf",
        "executionCount": 141
       },
       "overflow": false,
       "plotOptions": {
        "customPlotOptions": {},
        "displayType": "table",
        "pivotAggregation": null,
        "pivotColumns": null,
        "xColumns": null,
        "yColumns": null
       },
       "removedWidgets": [],
       "schema": [
        {
         "metadata": "{}",
         "name": "file_name",
         "type": "\"string\""
        },
        {
         "metadata": "{}",
         "name": "count",
         "type": "\"long\""
        }
       ],
       "type": "table"
      }
     },
     "output_type": "display_data"
    }
   ],
   "source": [
    "%sql\n",
    "select file_name,count(*) count from autoloader_demo group by file_name"
   ]
  },
  {
   "cell_type": "markdown",
   "metadata": {
    "application/vnd.databricks.v1+cell": {
     "cellMetadata": {},
     "inputWidgets": {},
     "nuid": "a3a7186a-1a98-40b7-a716-9753a3907c41",
     "showTitle": false,
     "tableResultSettingsMap": {},
     "title": ""
    }
   },
   "source": [
    "**Step 6 :  Simulate Streaming**"
   ]
  },
  {
   "cell_type": "code",
   "execution_count": 0,
   "metadata": {
    "application/vnd.databricks.v1+cell": {
     "cellMetadata": {
      "byteLimit": 2048000,
      "rowLimit": 10000
     },
     "inputWidgets": {},
     "nuid": "6498297a-23c0-4bbc-bec2-222b2425d6b7",
     "showTitle": false,
     "tableResultSettingsMap": {},
     "title": ""
    }
   },
   "outputs": [],
   "source": [
    "df_day = pd.DataFrame({\n",
    "    \"order_id\": [107, 108],\n",
    "    \"customer\": [\"Z\", \"A\"],\n",
    "    \"amount\": [215, 326]\n",
    "})\n",
    "\n",
    "df_day.to_csv(\"/Volumes/workspace/default/autoloader_demo/2025/08/04/sales_20250804.csv\", index=False)"
   ]
  },
  {
   "cell_type": "code",
   "execution_count": 0,
   "metadata": {
    "application/vnd.databricks.v1+cell": {
     "cellMetadata": {
      "byteLimit": 2048000,
      "rowLimit": 10000
     },
     "inputWidgets": {},
     "nuid": "fa454e6a-b262-4ac7-a112-3a9303763ca5",
     "showTitle": false,
     "tableResultSettingsMap": {},
     "title": ""
    }
   },
   "outputs": [],
   "source": [
    "df_day = pd.DataFrame({\n",
    "    \"order_id\": [107, 108],\n",
    "    \"customer\": [\"B\", \"K\"],\n",
    "    \"amount\": [215, 326]\n",
    "})\n",
    "\n",
    "df_day.to_csv(\"/Volumes/workspace/default/autoloader_demo/2025/08/05/sales_20250805.csv\", index=False)"
   ]
  },
  {
   "cell_type": "markdown",
   "metadata": {
    "application/vnd.databricks.v1+cell": {
     "cellMetadata": {},
     "inputWidgets": {},
     "nuid": "2f77dde0-96be-4b67-935c-aab69f7c153e",
     "showTitle": false,
     "tableResultSettingsMap": {},
     "title": ""
    }
   },
   "source": []
  }
 ],
 "metadata": {
  "application/vnd.databricks.v1+notebook": {
   "computePreferences": null,
   "dashboards": [],
   "environmentMetadata": {
    "base_environment": "",
    "environment_version": "2"
   },
   "inputWidgetPreferences": null,
   "language": "python",
   "notebookMetadata": {
    "mostRecentlyExecutedCommandWithImplicitDF": {
     "commandId": 6339770374267586,
     "dataframes": [
      "_sqldf"
     ]
    },
    "pythonIndentUnit": 4
   },
   "notebookName": "AutoLoader demo",
   "widgets": {}
  },
  "language_info": {
   "name": "python"
  }
 },
 "nbformat": 4,
 "nbformat_minor": 0
}