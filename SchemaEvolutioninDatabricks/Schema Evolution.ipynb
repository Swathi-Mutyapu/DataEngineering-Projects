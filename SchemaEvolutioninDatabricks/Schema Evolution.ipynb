{
 "cells": [
  {
   "cell_type": "markdown",
   "metadata": {
    "application/vnd.databricks.v1+cell": {
     "cellMetadata": {},
     "inputWidgets": {},
     "nuid": "0c694e6a-38b7-4c55-90cc-80c352a695e9",
     "showTitle": false,
     "tableResultSettingsMap": {},
     "title": ""
    }
   },
   "source": [
    "### Schema Evolution\n",
    "\n",
    "##### Schema Evolution is the ability of a data system to adapt to changes in the structure of the data over time without breaking existing pipelines\n",
    "\n",
    "##### In this notebook I have used a scenario where data loads from an existing table into another historical table on a monthly basis.\n",
    "\n",
    "The existing table always changes over time, sometimes it has more number of columns, sometimes with changes in data types, sometimes the orders of the columns would be changed etc..i.e.the schema always evolves over time.\n",
    "\n",
    "Lets see how Schema Evolution is handled in data bricks covering multiple scenarios. \n",
    "\n"
   ]
  },
  {
   "cell_type": "markdown",
   "metadata": {
    "application/vnd.databricks.v1+cell": {
     "cellMetadata": {},
     "inputWidgets": {},
     "nuid": "e773a8be-c3c1-49df-86f4-8fb6159f049a",
     "showTitle": false,
     "tableResultSettingsMap": {},
     "title": ""
    }
   },
   "source": [
    "- Step 1: Create a Monthly Snapshot of the existing table with the same schema as of the existing table "
   ]
  },
  {
   "cell_type": "code",
   "execution_count": 0,
   "metadata": {
    "application/vnd.databricks.v1+cell": {
     "cellMetadata": {
      "byteLimit": 2048000,
      "implicitDf": true,
      "rowLimit": 10000
     },
     "inputWidgets": {},
     "nuid": "81edd100-2e2f-43c6-a807-0795c343db5c",
     "showTitle": false,
     "tableResultSettingsMap": {},
     "title": ""
    }
   },
   "outputs": [
    {
     "output_type": "display_data",
     "data": {
      "text/html": [
       "<style scoped>\n",
       "  .table-result-container {\n",
       "    max-height: 300px;\n",
       "    overflow: auto;\n",
       "  }\n",
       "  table, th, td {\n",
       "    border: 1px solid black;\n",
       "    border-collapse: collapse;\n",
       "  }\n",
       "  th, td {\n",
       "    padding: 5px;\n",
       "  }\n",
       "  th {\n",
       "    text-align: left;\n",
       "  }\n",
       "</style><div class='table-result-container'><table class='table-result'><thead style='background-color: white'><tr></tr></thead><tbody></tbody></table></div>"
      ]
     },
     "metadata": {
      "application/vnd.databricks.v1+output": {
       "addedWidgets": {},
       "aggData": [],
       "aggError": "",
       "aggOverflow": false,
       "aggSchema": [],
       "aggSeriesLimitReached": false,
       "aggType": "",
       "arguments": {},
       "columnCustomDisplayInfos": {},
       "data": [],
       "datasetInfos": [],
       "dbfsResultPath": null,
       "isJsonSchema": true,
       "metadata": {},
       "overflow": false,
       "plotOptions": {
        "customPlotOptions": {},
        "displayType": "table",
        "pivotAggregation": null,
        "pivotColumns": null,
        "xColumns": null,
        "yColumns": null
       },
       "removedWidgets": [],
       "schema": [],
       "type": "table"
      }
     },
     "output_type": "display_data"
    }
   ],
   "source": [
    "%sql\n",
    "CREATE OR REPLACE TABLE default.daily_agg_orders \n",
    "(\n",
    "  Region STRING,\n",
    "  Country STRING,\n",
    "  State STRING,\n",
    "  Sales DOUBLE,\n",
    "  Quantity INT\n",
    ")"
   ]
  },
  {
   "cell_type": "code",
   "execution_count": 0,
   "metadata": {
    "application/vnd.databricks.v1+cell": {
     "cellMetadata": {
      "byteLimit": 2048000,
      "implicitDf": true,
      "rowLimit": 10000
     },
     "inputWidgets": {},
     "nuid": "9d1e70cb-2870-4d81-ac0d-9becb914da00",
     "showTitle": false,
     "tableResultSettingsMap": {},
     "title": ""
    }
   },
   "outputs": [
    {
     "output_type": "display_data",
     "data": {
      "text/html": [
       "<style scoped>\n",
       "  .table-result-container {\n",
       "    max-height: 300px;\n",
       "    overflow: auto;\n",
       "  }\n",
       "  table, th, td {\n",
       "    border: 1px solid black;\n",
       "    border-collapse: collapse;\n",
       "  }\n",
       "  th, td {\n",
       "    padding: 5px;\n",
       "  }\n",
       "  th {\n",
       "    text-align: left;\n",
       "  }\n",
       "</style><div class='table-result-container'><table class='table-result'><thead style='background-color: white'><tr><th>num_affected_rows</th><th>num_inserted_rows</th></tr></thead><tbody><tr><td>49</td><td>49</td></tr></tbody></table></div>"
      ]
     },
     "metadata": {
      "application/vnd.databricks.v1+output": {
       "addedWidgets": {},
       "aggData": [],
       "aggError": "",
       "aggOverflow": false,
       "aggSchema": [],
       "aggSeriesLimitReached": false,
       "aggType": "",
       "arguments": {},
       "columnCustomDisplayInfos": {},
       "data": [
        [
         49,
         49
        ]
       ],
       "datasetInfos": [],
       "dbfsResultPath": null,
       "isJsonSchema": true,
       "metadata": {},
       "overflow": false,
       "plotOptions": {
        "customPlotOptions": {},
        "displayType": "table",
        "pivotAggregation": null,
        "pivotColumns": null,
        "xColumns": null,
        "yColumns": null
       },
       "removedWidgets": [],
       "schema": [
        {
         "metadata": "{}",
         "name": "num_affected_rows",
         "type": "\"long\""
        },
        {
         "metadata": "{}",
         "name": "num_inserted_rows",
         "type": "\"long\""
        }
       ],
       "type": "table"
      }
     },
     "output_type": "display_data"
    }
   ],
   "source": [
    "%sql\n",
    "INSERT INTO default.daily_agg_orders\n",
    "SELECT Region,\n",
    "Country,\n",
    "State,\n",
    "SUM(sales) as Sales,\n",
    "SUM(Quantity) as Quantity\n",
    "from default.schema_evolution --this is just a simple superstore dataset\n",
    "group by 1,2,3"
   ]
  },
  {
   "cell_type": "markdown",
   "metadata": {
    "application/vnd.databricks.v1+cell": {
     "cellMetadata": {},
     "inputWidgets": {},
     "nuid": "2f259af3-7288-4286-aaa0-d3ec9cf43eaf",
     "showTitle": false,
     "tableResultSettingsMap": {},
     "title": ""
    }
   },
   "source": [
    "Step 1: From daily table, we need to create monthly snapshot on the first of every month(here i will be using random dates for demonstration purposes)"
   ]
  },
  {
   "cell_type": "code",
   "execution_count": 0,
   "metadata": {
    "application/vnd.databricks.v1+cell": {
     "cellMetadata": {
      "byteLimit": 2048000,
      "rowLimit": 10000
     },
     "inputWidgets": {},
     "nuid": "7dfe2abf-2ba7-4c3e-95d5-8666cfb70e85",
     "showTitle": false,
     "tableResultSettingsMap": {},
     "title": ""
    }
   },
   "outputs": [
    {
     "output_type": "stream",
     "name": "stdout",
     "output_type": "stream",
     "text": [
      "Historical data updated sucessfully for 2025-05-31\n"
     ]
    }
   ],
   "source": [
    "from pyspark.sql import SparkSession\n",
    "from pyspark.sql.functions import current_date, lit\n",
    "from datetime import datetime \n",
    "\n",
    "spark=SparkSession.builder.appName(\"SchemaEvolution\").getOrCreate()\n",
    "\n",
    "#Get daily data \n",
    "current_orders = spark.table(\"default.daily_agg_orders\")\n",
    "\n",
    "#Add date information \n",
    "Snapshot_date=datetime.now().strftime(\"%Y-%m-%d\")\n",
    "orders_with_snapshot=current_orders.withColumn(\"Snapshot_date\",current_date()-1) #here i have used current_date()-1 for demo purposes\n",
    "\n",
    "#Appending data to the monthly table - using schema evolution. If there exists no table it will create automatically \n",
    "orders_with_snapshot.write\\\n",
    "    .format(\"delta\")\\\n",
    "    .option(\"mergeSchema\",\"true\")\\\n",
    "    .mode(\"append\")\\\n",
    "    .saveAsTable(\"default.monthly_agg_orders\")\n",
    "\n",
    "print(f\"Historical data updated sucessfully for {Snapshot_date}\")"
   ]
  },
  {
   "cell_type": "code",
   "execution_count": 0,
   "metadata": {
    "application/vnd.databricks.v1+cell": {
     "cellMetadata": {
      "byteLimit": 2048000,
      "implicitDf": true,
      "rowLimit": 10000
     },
     "inputWidgets": {},
     "nuid": "058cc790-2b4c-4f97-965d-58acc4d70d77",
     "showTitle": false,
     "tableResultSettingsMap": {},
     "title": ""
    }
   },
   "outputs": [
    {
     "output_type": "display_data",
     "data": {
      "text/html": [
       "<style scoped>\n",
       "  .table-result-container {\n",
       "    max-height: 300px;\n",
       "    overflow: auto;\n",
       "  }\n",
       "  table, th, td {\n",
       "    border: 1px solid black;\n",
       "    border-collapse: collapse;\n",
       "  }\n",
       "  th, td {\n",
       "    padding: 5px;\n",
       "  }\n",
       "  th {\n",
       "    text-align: left;\n",
       "  }\n",
       "</style><div class='table-result-container'><table class='table-result'><thead style='background-color: white'><tr><th>Region</th><th>Country</th><th>State</th><th>Sales</th><th>Quantity</th><th>Snapshot_date</th></tr></thead><tbody><tr><td>South</td><td>United States</td><td>Arkansas</td><td>11678.129999999997</td><td>240</td><td>2025-05-30</td></tr><tr><td>Central</td><td>United States</td><td>Michigan</td><td>76269.61400000002</td><td>946</td><td>2025-05-30</td></tr><tr><td>Central</td><td>United States</td><td>Kansas</td><td>2914.31</td><td>74</td><td>2025-05-30</td></tr><tr><td>South</td><td>United States</td><td>Virginia</td><td>70636.71999999999</td><td>893</td><td>2025-05-30</td></tr><tr><td>East</td><td>United States</td><td>Delaware</td><td>27451.068999999992</td><td>367</td><td>2025-05-30</td></tr><tr><td>East</td><td>United States</td><td>West Virginia</td><td>1209.824</td><td>18</td><td>2025-05-30</td></tr><tr><td>Central</td><td>United States</td><td>Iowa</td><td>4579.759999999999</td><td>112</td><td>2025-05-30</td></tr><tr><td>East</td><td>United States</td><td>Pennsylvania</td><td>116511.91400000003</td><td>2153</td><td>2025-05-30</td></tr><tr><td>South</td><td>United States</td><td>Louisiana</td><td>9217.029999999999</td><td>156</td><td>2025-05-30</td></tr><tr><td>Central</td><td>United States</td><td>Texas</td><td>170188.04580000002</td><td>3724</td><td>2025-05-30</td></tr><tr><td>Central</td><td>United States</td><td>Missouri</td><td>22205.149999999998</td><td>252</td><td>2025-05-30</td></tr><tr><td>East</td><td>United States</td><td>Maryland</td><td>23705.523</td><td>420</td><td>2025-05-30</td></tr><tr><td>Central</td><td>United States</td><td>Wisconsin</td><td>32114.61000000002</td><td>463</td><td>2025-05-30</td></tr><tr><td>East</td><td>United States</td><td>New Hampshire</td><td>7292.523999999999</td><td>127</td><td>2025-05-30</td></tr><tr><td>South</td><td>United States</td><td>Georgia</td><td>49095.840000000004</td><td>705</td><td>2025-05-30</td></tr><tr><td>Central</td><td>United States</td><td>Minnesota</td><td>29863.149999999994</td><td>331</td><td>2025-05-30</td></tr><tr><td>South</td><td>United States</td><td>North Carolina</td><td>55603.16399999997</td><td>983</td><td>2025-05-30</td></tr><tr><td>East</td><td>United States</td><td>Connecticut</td><td>13384.356999999996</td><td>281</td><td>2025-05-30</td></tr><tr><td>South</td><td>United States</td><td>South Carolina</td><td>8481.71</td><td>172</td><td>2025-05-30</td></tr><tr><td>South</td><td>United States</td><td>Mississippi</td><td>10771.34</td><td>221</td><td>2025-05-30</td></tr><tr><td>Central</td><td>United States</td><td>Illinois</td><td>80166.10099999986</td><td>1845</td><td>2025-05-30</td></tr><tr><td>West</td><td>United States</td><td>Montana</td><td>5589.351999999997</td><td>56</td><td>2025-05-30</td></tr><tr><td>West</td><td>United States</td><td>New Mexico</td><td>4783.521999999999</td><td>151</td><td>2025-05-30</td></tr><tr><td>West</td><td>United States</td><td>Washington</td><td>138641.26999999993</td><td>1883</td><td>2025-05-30</td></tr><tr><td>East</td><td>United States</td><td>Massachusetts</td><td>28634.433999999994</td><td>491</td><td>2025-05-30</td></tr><tr><td>South</td><td>United States</td><td>Alabama</td><td>19510.639999999992</td><td>256</td><td>2025-05-30</td></tr><tr><td>Central</td><td>United States</td><td>South Dakota</td><td>1315.5600000000002</td><td>42</td><td>2025-05-30</td></tr><tr><td>Central</td><td>United States</td><td>Nebraska</td><td>7464.9299999999985</td><td>136</td><td>2025-05-30</td></tr><tr><td>Central</td><td>United States</td><td>Indiana</td><td>53555.36</td><td>578</td><td>2025-05-30</td></tr><tr><td>Central</td><td>United States</td><td>Oklahoma</td><td>19683.39</td><td>247</td><td>2025-05-30</td></tr><tr><td>East</td><td>United States</td><td>New Jersey</td><td>35764.31200000001</td><td>454</td><td>2025-05-30</td></tr><tr><td>West</td><td>United States</td><td>Oregon</td><td>17431.14999999999</td><td>499</td><td>2025-05-30</td></tr><tr><td>South</td><td>United States</td><td>Kentucky</td><td>36591.74999999997</td><td>523</td><td>2025-05-30</td></tr><tr><td>East</td><td>United States</td><td>Maine</td><td>1270.5300000000002</td><td>35</td><td>2025-05-30</td></tr><tr><td>East</td><td>United States</td><td>Vermont</td><td>8929.369999999999</td><td>50</td><td>2025-05-30</td></tr><tr><td>West</td><td>United States</td><td>California</td><td>457687.631500001</td><td>7667</td><td>2025-05-30</td></tr><tr><td>West</td><td>United States</td><td>Utah</td><td>11220.055999999999</td><td>219</td><td>2025-05-30</td></tr><tr><td>West</td><td>United States</td><td>Arizona</td><td>35282.001</td><td>862</td><td>2025-05-30</td></tr><tr><td>East</td><td>United States</td><td>New York</td><td>310876.2709999998</td><td>4224</td><td>2025-05-30</td></tr><tr><td>West</td><td>United States</td><td>Colorado</td><td>32108.117999999995</td><td>693</td><td>2025-05-30</td></tr><tr><td>West</td><td>United States</td><td>Wyoming</td><td>1603.136</td><td>4</td><td>2025-05-30</td></tr><tr><td>East</td><td>United States</td><td>Ohio</td><td>78258.13599999993</td><td>1759</td><td>2025-05-30</td></tr><tr><td>Central</td><td>United States</td><td>North Dakota</td><td>919.91</td><td>30</td><td>2025-05-30</td></tr><tr><td>East</td><td>United States</td><td>Rhode Island</td><td>22627.955999999995</td><td>199</td><td>2025-05-30</td></tr><tr><td>West</td><td>United States</td><td>Nevada</td><td>16729.102</td><td>168</td><td>2025-05-30</td></tr><tr><td>South</td><td>United States</td><td>Tennessee</td><td>30661.87299999998</td><td>681</td><td>2025-05-30</td></tr><tr><td>East</td><td>United States</td><td>District of Columbia</td><td>2865.0199999999995</td><td>40</td><td>2025-05-30</td></tr><tr><td>West</td><td>United States</td><td>Idaho</td><td>4382.486000000002</td><td>64</td><td>2025-05-30</td></tr><tr><td>South</td><td>United States</td><td>Florida</td><td>89473.708</td><td>1379</td><td>2025-05-30</td></tr></tbody></table></div>"
      ]
     },
     "metadata": {
      "application/vnd.databricks.v1+output": {
       "addedWidgets": {},
       "aggData": [],
       "aggError": "",
       "aggOverflow": false,
       "aggSchema": [],
       "aggSeriesLimitReached": false,
       "aggType": "",
       "arguments": {},
       "columnCustomDisplayInfos": {},
       "data": [
        [
         "South",
         "United States",
         "Arkansas",
         11678.129999999997,
         240,
         "2025-05-30"
        ],
        [
         "Central",
         "United States",
         "Michigan",
         76269.61400000002,
         946,
         "2025-05-30"
        ],
        [
         "Central",
         "United States",
         "Kansas",
         2914.31,
         74,
         "2025-05-30"
        ],
        [
         "South",
         "United States",
         "Virginia",
         70636.71999999999,
         893,
         "2025-05-30"
        ],
        [
         "East",
         "United States",
         "Delaware",
         27451.068999999992,
         367,
         "2025-05-30"
        ],
        [
         "East",
         "United States",
         "West Virginia",
         1209.824,
         18,
         "2025-05-30"
        ],
        [
         "Central",
         "United States",
         "Iowa",
         4579.759999999999,
         112,
         "2025-05-30"
        ],
        [
         "East",
         "United States",
         "Pennsylvania",
         116511.91400000003,
         2153,
         "2025-05-30"
        ],
        [
         "South",
         "United States",
         "Louisiana",
         9217.029999999999,
         156,
         "2025-05-30"
        ],
        [
         "Central",
         "United States",
         "Texas",
         170188.04580000002,
         3724,
         "2025-05-30"
        ],
        [
         "Central",
         "United States",
         "Missouri",
         22205.149999999998,
         252,
         "2025-05-30"
        ],
        [
         "East",
         "United States",
         "Maryland",
         23705.523,
         420,
         "2025-05-30"
        ],
        [
         "Central",
         "United States",
         "Wisconsin",
         32114.61000000002,
         463,
         "2025-05-30"
        ],
        [
         "East",
         "United States",
         "New Hampshire",
         7292.523999999999,
         127,
         "2025-05-30"
        ],
        [
         "South",
         "United States",
         "Georgia",
         49095.840000000004,
         705,
         "2025-05-30"
        ],
        [
         "Central",
         "United States",
         "Minnesota",
         29863.149999999994,
         331,
         "2025-05-30"
        ],
        [
         "South",
         "United States",
         "North Carolina",
         55603.16399999997,
         983,
         "2025-05-30"
        ],
        [
         "East",
         "United States",
         "Connecticut",
         13384.356999999996,
         281,
         "2025-05-30"
        ],
        [
         "South",
         "United States",
         "South Carolina",
         8481.71,
         172,
         "2025-05-30"
        ],
        [
         "South",
         "United States",
         "Mississippi",
         10771.34,
         221,
         "2025-05-30"
        ],
        [
         "Central",
         "United States",
         "Illinois",
         80166.10099999986,
         1845,
         "2025-05-30"
        ],
        [
         "West",
         "United States",
         "Montana",
         5589.351999999997,
         56,
         "2025-05-30"
        ],
        [
         "West",
         "United States",
         "New Mexico",
         4783.521999999999,
         151,
         "2025-05-30"
        ],
        [
         "West",
         "United States",
         "Washington",
         138641.26999999993,
         1883,
         "2025-05-30"
        ],
        [
         "East",
         "United States",
         "Massachusetts",
         28634.433999999994,
         491,
         "2025-05-30"
        ],
        [
         "South",
         "United States",
         "Alabama",
         19510.639999999992,
         256,
         "2025-05-30"
        ],
        [
         "Central",
         "United States",
         "South Dakota",
         1315.5600000000002,
         42,
         "2025-05-30"
        ],
        [
         "Central",
         "United States",
         "Nebraska",
         7464.9299999999985,
         136,
         "2025-05-30"
        ],
        [
         "Central",
         "United States",
         "Indiana",
         53555.36,
         578,
         "2025-05-30"
        ],
        [
         "Central",
         "United States",
         "Oklahoma",
         19683.39,
         247,
         "2025-05-30"
        ],
        [
         "East",
         "United States",
         "New Jersey",
         35764.31200000001,
         454,
         "2025-05-30"
        ],
        [
         "West",
         "United States",
         "Oregon",
         17431.14999999999,
         499,
         "2025-05-30"
        ],
        [
         "South",
         "United States",
         "Kentucky",
         36591.74999999997,
         523,
         "2025-05-30"
        ],
        [
         "East",
         "United States",
         "Maine",
         1270.5300000000002,
         35,
         "2025-05-30"
        ],
        [
         "East",
         "United States",
         "Vermont",
         8929.369999999999,
         50,
         "2025-05-30"
        ],
        [
         "West",
         "United States",
         "California",
         457687.631500001,
         7667,
         "2025-05-30"
        ],
        [
         "West",
         "United States",
         "Utah",
         11220.055999999999,
         219,
         "2025-05-30"
        ],
        [
         "West",
         "United States",
         "Arizona",
         35282.001,
         862,
         "2025-05-30"
        ],
        [
         "East",
         "United States",
         "New York",
         310876.2709999998,
         4224,
         "2025-05-30"
        ],
        [
         "West",
         "United States",
         "Colorado",
         32108.117999999995,
         693,
         "2025-05-30"
        ],
        [
         "West",
         "United States",
         "Wyoming",
         1603.136,
         4,
         "2025-05-30"
        ],
        [
         "East",
         "United States",
         "Ohio",
         78258.13599999993,
         1759,
         "2025-05-30"
        ],
        [
         "Central",
         "United States",
         "North Dakota",
         919.91,
         30,
         "2025-05-30"
        ],
        [
         "East",
         "United States",
         "Rhode Island",
         22627.955999999995,
         199,
         "2025-05-30"
        ],
        [
         "West",
         "United States",
         "Nevada",
         16729.102,
         168,
         "2025-05-30"
        ],
        [
         "South",
         "United States",
         "Tennessee",
         30661.87299999998,
         681,
         "2025-05-30"
        ],
        [
         "East",
         "United States",
         "District of Columbia",
         2865.0199999999995,
         40,
         "2025-05-30"
        ],
        [
         "West",
         "United States",
         "Idaho",
         4382.486000000002,
         64,
         "2025-05-30"
        ],
        [
         "South",
         "United States",
         "Florida",
         89473.708,
         1379,
         "2025-05-30"
        ]
       ],
       "datasetInfos": [],
       "dbfsResultPath": null,
       "isJsonSchema": true,
       "metadata": {},
       "overflow": false,
       "plotOptions": {
        "customPlotOptions": {},
        "displayType": "table",
        "pivotAggregation": null,
        "pivotColumns": null,
        "xColumns": null,
        "yColumns": null
       },
       "removedWidgets": [],
       "schema": [
        {
         "metadata": "{}",
         "name": "Region",
         "type": "\"string\""
        },
        {
         "metadata": "{}",
         "name": "Country",
         "type": "\"string\""
        },
        {
         "metadata": "{}",
         "name": "State",
         "type": "\"string\""
        },
        {
         "metadata": "{}",
         "name": "Sales",
         "type": "\"double\""
        },
        {
         "metadata": "{}",
         "name": "Quantity",
         "type": "\"integer\""
        },
        {
         "metadata": "{}",
         "name": "Snapshot_date",
         "type": "\"date\""
        }
       ],
       "type": "table"
      }
     },
     "output_type": "display_data"
    }
   ],
   "source": [
    "%sql\n",
    "select * from default.monthly_agg_orders"
   ]
  },
  {
   "cell_type": "markdown",
   "metadata": {
    "application/vnd.databricks.v1+cell": {
     "cellMetadata": {},
     "inputWidgets": {},
     "nuid": "aa6cf9ae-6e86-4f81-99a7-6cdaa191c8d0",
     "showTitle": false,
     "tableResultSettingsMap": {},
     "title": ""
    }
   },
   "source": [
    "Scenario 1: Now lets say new column profit is added to the daily table"
   ]
  },
  {
   "cell_type": "code",
   "execution_count": 0,
   "metadata": {
    "application/vnd.databricks.v1+cell": {
     "cellMetadata": {
      "byteLimit": 2048000,
      "implicitDf": true,
      "rowLimit": 10000
     },
     "inputWidgets": {},
     "nuid": "aee6d477-ce51-451f-acb7-80f2d8349127",
     "showTitle": false,
     "tableResultSettingsMap": {},
     "title": ""
    }
   },
   "outputs": [
    {
     "output_type": "display_data",
     "data": {
      "text/html": [
       "<style scoped>\n",
       "  .table-result-container {\n",
       "    max-height: 300px;\n",
       "    overflow: auto;\n",
       "  }\n",
       "  table, th, td {\n",
       "    border: 1px solid black;\n",
       "    border-collapse: collapse;\n",
       "  }\n",
       "  th, td {\n",
       "    padding: 5px;\n",
       "  }\n",
       "  th {\n",
       "    text-align: left;\n",
       "  }\n",
       "</style><div class='table-result-container'><table class='table-result'><thead style='background-color: white'><tr></tr></thead><tbody></tbody></table></div>"
      ]
     },
     "metadata": {
      "application/vnd.databricks.v1+output": {
       "addedWidgets": {},
       "aggData": [],
       "aggError": "",
       "aggOverflow": false,
       "aggSchema": [],
       "aggSeriesLimitReached": false,
       "aggType": "",
       "arguments": {},
       "columnCustomDisplayInfos": {},
       "data": [],
       "datasetInfos": [],
       "dbfsResultPath": null,
       "isJsonSchema": true,
       "metadata": {},
       "overflow": false,
       "plotOptions": {
        "customPlotOptions": {},
        "displayType": "table",
        "pivotAggregation": null,
        "pivotColumns": null,
        "xColumns": null,
        "yColumns": null
       },
       "removedWidgets": [],
       "schema": [],
       "type": "table"
      }
     },
     "output_type": "display_data"
    }
   ],
   "source": [
    "%sql\n",
    "CREATE OR REPLACE TABLE default.daily_agg_orders \n",
    "(\n",
    "  Region STRING,\n",
    "  Country STRING,\n",
    "  State STRING,\n",
    "  Sales DOUBLE,\n",
    "  Quantity INT,\n",
    "  Profit DOUBLE\n",
    ")"
   ]
  },
  {
   "cell_type": "code",
   "execution_count": 0,
   "metadata": {
    "application/vnd.databricks.v1+cell": {
     "cellMetadata": {
      "byteLimit": 2048000,
      "implicitDf": true,
      "rowLimit": 10000
     },
     "inputWidgets": {},
     "nuid": "39e83dfd-2c99-4845-a44f-6c9fdf0132be",
     "showTitle": false,
     "tableResultSettingsMap": {},
     "title": ""
    }
   },
   "outputs": [
    {
     "output_type": "display_data",
     "data": {
      "text/html": [
       "<style scoped>\n",
       "  .table-result-container {\n",
       "    max-height: 300px;\n",
       "    overflow: auto;\n",
       "  }\n",
       "  table, th, td {\n",
       "    border: 1px solid black;\n",
       "    border-collapse: collapse;\n",
       "  }\n",
       "  th, td {\n",
       "    padding: 5px;\n",
       "  }\n",
       "  th {\n",
       "    text-align: left;\n",
       "  }\n",
       "</style><div class='table-result-container'><table class='table-result'><thead style='background-color: white'><tr><th>num_affected_rows</th><th>num_inserted_rows</th></tr></thead><tbody><tr><td>49</td><td>49</td></tr></tbody></table></div>"
      ]
     },
     "metadata": {
      "application/vnd.databricks.v1+output": {
       "addedWidgets": {},
       "aggData": [],
       "aggError": "",
       "aggOverflow": false,
       "aggSchema": [],
       "aggSeriesLimitReached": false,
       "aggType": "",
       "arguments": {},
       "columnCustomDisplayInfos": {},
       "data": [
        [
         49,
         49
        ]
       ],
       "datasetInfos": [],
       "dbfsResultPath": null,
       "isJsonSchema": true,
       "metadata": {},
       "overflow": false,
       "plotOptions": {
        "customPlotOptions": {},
        "displayType": "table",
        "pivotAggregation": null,
        "pivotColumns": null,
        "xColumns": null,
        "yColumns": null
       },
       "removedWidgets": [],
       "schema": [
        {
         "metadata": "{}",
         "name": "num_affected_rows",
         "type": "\"long\""
        },
        {
         "metadata": "{}",
         "name": "num_inserted_rows",
         "type": "\"long\""
        }
       ],
       "type": "table"
      }
     },
     "output_type": "display_data"
    }
   ],
   "source": [
    "%sql\n",
    "INSERT INTO default.daily_agg_orders\n",
    "SELECT Region,\n",
    "Country,\n",
    "State,\n",
    "SUM(sales) as Sales,\n",
    "SUM(Quantity) as Quantity,\n",
    "AVG(Profit) as avg_Profit\n",
    "from default.schema_evolution --this is just a simple superstore dataset\n",
    "group by 1,2,3"
   ]
  },
  {
   "cell_type": "markdown",
   "metadata": {
    "application/vnd.databricks.v1+cell": {
     "cellMetadata": {},
     "inputWidgets": {},
     "nuid": "40f0bf68-7d5b-4b02-b4f8-49dc7d803de5",
     "showTitle": false,
     "tableResultSettingsMap": {},
     "title": ""
    }
   },
   "source": [
    "Lets see how it is handled with schema evolution in the monthly snapshot for current_date()"
   ]
  },
  {
   "cell_type": "code",
   "execution_count": 0,
   "metadata": {
    "application/vnd.databricks.v1+cell": {
     "cellMetadata": {
      "byteLimit": 2048000,
      "rowLimit": 10000
     },
     "inputWidgets": {},
     "nuid": "583d5bab-6f46-4139-be0e-7aa707b383d3",
     "showTitle": false,
     "tableResultSettingsMap": {},
     "title": ""
    }
   },
   "outputs": [
    {
     "output_type": "stream",
     "name": "stdout",
     "output_type": "stream",
     "text": [
      "Historical data updated sucessfully for 2025-05-31\n"
     ]
    }
   ],
   "source": [
    "from pyspark.sql import SparkSession\n",
    "from pyspark.sql.functions import current_date, lit\n",
    "from datetime import datetime \n",
    "\n",
    "spark=SparkSession.builder.appName(\"SchemaEvolution\").getOrCreate()\n",
    "\n",
    "#Get daily data \n",
    "current_orders = spark.table(\"default.daily_agg_orders\")\n",
    "\n",
    "#Add date information \n",
    "Snapshot_date=datetime.now().strftime(\"%Y-%m-%d\")\n",
    "orders_with_snapshot=current_orders.withColumn(\"Snapshot_date\",current_date()) #here i have used current_date() for demo purposes\n",
    "\n",
    "#Appending data to the monthly table - using schema evolution. If there exists no table it will create automatically \n",
    "orders_with_snapshot.write\\\n",
    "    .format(\"delta\")\\\n",
    "    .option(\"mergeSchema\",\"true\")\\\n",
    "    .mode(\"append\")\\\n",
    "    .saveAsTable(\"default.monthly_agg_orders\")\n",
    "\n",
    "print(f\"Historical data updated sucessfully for {Snapshot_date}\")"
   ]
  },
  {
   "cell_type": "code",
   "execution_count": 0,
   "metadata": {
    "application/vnd.databricks.v1+cell": {
     "cellMetadata": {
      "byteLimit": 2048000,
      "implicitDf": true,
      "rowLimit": 10000
     },
     "inputWidgets": {},
     "nuid": "a0cef91b-486b-4380-a750-fdb7b69726af",
     "showTitle": false,
     "tableResultSettingsMap": {},
     "title": ""
    }
   },
   "outputs": [
    {
     "output_type": "display_data",
     "data": {
      "text/html": [
       "<style scoped>\n",
       "  .table-result-container {\n",
       "    max-height: 300px;\n",
       "    overflow: auto;\n",
       "  }\n",
       "  table, th, td {\n",
       "    border: 1px solid black;\n",
       "    border-collapse: collapse;\n",
       "  }\n",
       "  th, td {\n",
       "    padding: 5px;\n",
       "  }\n",
       "  th {\n",
       "    text-align: left;\n",
       "  }\n",
       "</style><div class='table-result-container'><table class='table-result'><thead style='background-color: white'><tr><th>Region</th><th>Country</th><th>State</th><th>Sales</th><th>Quantity</th><th>Snapshot_date</th><th>Profit</th></tr></thead><tbody><tr><td>South</td><td>United States</td><td>Arkansas</td><td>11678.129999999997</td><td>240</td><td>2025-05-30</td><td>null</td></tr><tr><td>Central</td><td>United States</td><td>Michigan</td><td>76269.61400000002</td><td>946</td><td>2025-05-30</td><td>null</td></tr><tr><td>Central</td><td>United States</td><td>Kansas</td><td>2914.31</td><td>74</td><td>2025-05-30</td><td>null</td></tr><tr><td>South</td><td>United States</td><td>Virginia</td><td>70636.71999999999</td><td>893</td><td>2025-05-30</td><td>null</td></tr><tr><td>East</td><td>United States</td><td>Delaware</td><td>27451.068999999992</td><td>367</td><td>2025-05-30</td><td>null</td></tr><tr><td>East</td><td>United States</td><td>West Virginia</td><td>1209.824</td><td>18</td><td>2025-05-30</td><td>null</td></tr><tr><td>Central</td><td>United States</td><td>Iowa</td><td>4579.759999999999</td><td>112</td><td>2025-05-30</td><td>null</td></tr><tr><td>East</td><td>United States</td><td>Pennsylvania</td><td>116511.91400000003</td><td>2153</td><td>2025-05-30</td><td>null</td></tr><tr><td>South</td><td>United States</td><td>Louisiana</td><td>9217.029999999999</td><td>156</td><td>2025-05-30</td><td>null</td></tr><tr><td>Central</td><td>United States</td><td>Texas</td><td>170188.04580000002</td><td>3724</td><td>2025-05-30</td><td>null</td></tr><tr><td>Central</td><td>United States</td><td>Missouri</td><td>22205.149999999998</td><td>252</td><td>2025-05-30</td><td>null</td></tr><tr><td>East</td><td>United States</td><td>Maryland</td><td>23705.523</td><td>420</td><td>2025-05-30</td><td>null</td></tr><tr><td>Central</td><td>United States</td><td>Wisconsin</td><td>32114.61000000002</td><td>463</td><td>2025-05-30</td><td>null</td></tr><tr><td>East</td><td>United States</td><td>New Hampshire</td><td>7292.523999999999</td><td>127</td><td>2025-05-30</td><td>null</td></tr><tr><td>South</td><td>United States</td><td>Georgia</td><td>49095.840000000004</td><td>705</td><td>2025-05-30</td><td>null</td></tr><tr><td>Central</td><td>United States</td><td>Minnesota</td><td>29863.149999999994</td><td>331</td><td>2025-05-30</td><td>null</td></tr><tr><td>South</td><td>United States</td><td>North Carolina</td><td>55603.16399999997</td><td>983</td><td>2025-05-30</td><td>null</td></tr><tr><td>East</td><td>United States</td><td>Connecticut</td><td>13384.356999999996</td><td>281</td><td>2025-05-30</td><td>null</td></tr><tr><td>South</td><td>United States</td><td>South Carolina</td><td>8481.71</td><td>172</td><td>2025-05-30</td><td>null</td></tr><tr><td>South</td><td>United States</td><td>Mississippi</td><td>10771.34</td><td>221</td><td>2025-05-30</td><td>null</td></tr><tr><td>Central</td><td>United States</td><td>Illinois</td><td>80166.10099999986</td><td>1845</td><td>2025-05-30</td><td>null</td></tr><tr><td>West</td><td>United States</td><td>Montana</td><td>5589.351999999997</td><td>56</td><td>2025-05-30</td><td>null</td></tr><tr><td>West</td><td>United States</td><td>New Mexico</td><td>4783.521999999999</td><td>151</td><td>2025-05-30</td><td>null</td></tr><tr><td>West</td><td>United States</td><td>Washington</td><td>138641.26999999993</td><td>1883</td><td>2025-05-30</td><td>null</td></tr><tr><td>East</td><td>United States</td><td>Massachusetts</td><td>28634.433999999994</td><td>491</td><td>2025-05-30</td><td>null</td></tr><tr><td>South</td><td>United States</td><td>Alabama</td><td>19510.639999999992</td><td>256</td><td>2025-05-30</td><td>null</td></tr><tr><td>Central</td><td>United States</td><td>South Dakota</td><td>1315.5600000000002</td><td>42</td><td>2025-05-30</td><td>null</td></tr><tr><td>Central</td><td>United States</td><td>Nebraska</td><td>7464.9299999999985</td><td>136</td><td>2025-05-30</td><td>null</td></tr><tr><td>Central</td><td>United States</td><td>Indiana</td><td>53555.36</td><td>578</td><td>2025-05-30</td><td>null</td></tr><tr><td>Central</td><td>United States</td><td>Oklahoma</td><td>19683.39</td><td>247</td><td>2025-05-30</td><td>null</td></tr><tr><td>East</td><td>United States</td><td>New Jersey</td><td>35764.31200000001</td><td>454</td><td>2025-05-30</td><td>null</td></tr><tr><td>West</td><td>United States</td><td>Oregon</td><td>17431.14999999999</td><td>499</td><td>2025-05-30</td><td>null</td></tr><tr><td>South</td><td>United States</td><td>Kentucky</td><td>36591.74999999997</td><td>523</td><td>2025-05-30</td><td>null</td></tr><tr><td>East</td><td>United States</td><td>Maine</td><td>1270.5300000000002</td><td>35</td><td>2025-05-30</td><td>null</td></tr><tr><td>East</td><td>United States</td><td>Vermont</td><td>8929.369999999999</td><td>50</td><td>2025-05-30</td><td>null</td></tr><tr><td>West</td><td>United States</td><td>California</td><td>457687.631500001</td><td>7667</td><td>2025-05-30</td><td>null</td></tr><tr><td>West</td><td>United States</td><td>Utah</td><td>11220.055999999999</td><td>219</td><td>2025-05-30</td><td>null</td></tr><tr><td>West</td><td>United States</td><td>Arizona</td><td>35282.001</td><td>862</td><td>2025-05-30</td><td>null</td></tr><tr><td>East</td><td>United States</td><td>New York</td><td>310876.2709999998</td><td>4224</td><td>2025-05-30</td><td>null</td></tr><tr><td>West</td><td>United States</td><td>Colorado</td><td>32108.117999999995</td><td>693</td><td>2025-05-30</td><td>null</td></tr><tr><td>West</td><td>United States</td><td>Wyoming</td><td>1603.136</td><td>4</td><td>2025-05-30</td><td>null</td></tr><tr><td>East</td><td>United States</td><td>Ohio</td><td>78258.13599999993</td><td>1759</td><td>2025-05-30</td><td>null</td></tr><tr><td>Central</td><td>United States</td><td>North Dakota</td><td>919.91</td><td>30</td><td>2025-05-30</td><td>null</td></tr><tr><td>East</td><td>United States</td><td>Rhode Island</td><td>22627.955999999995</td><td>199</td><td>2025-05-30</td><td>null</td></tr><tr><td>West</td><td>United States</td><td>Nevada</td><td>16729.102</td><td>168</td><td>2025-05-30</td><td>null</td></tr><tr><td>South</td><td>United States</td><td>Tennessee</td><td>30661.87299999998</td><td>681</td><td>2025-05-30</td><td>null</td></tr><tr><td>East</td><td>United States</td><td>District of Columbia</td><td>2865.0199999999995</td><td>40</td><td>2025-05-30</td><td>null</td></tr><tr><td>West</td><td>United States</td><td>Idaho</td><td>4382.486000000002</td><td>64</td><td>2025-05-30</td><td>null</td></tr><tr><td>South</td><td>United States</td><td>Florida</td><td>89473.708</td><td>1379</td><td>2025-05-30</td><td>null</td></tr></tbody></table></div>"
      ]
     },
     "metadata": {
      "application/vnd.databricks.v1+output": {
       "addedWidgets": {},
       "aggData": [],
       "aggError": "",
       "aggOverflow": false,
       "aggSchema": [],
       "aggSeriesLimitReached": false,
       "aggType": "",
       "arguments": {},
       "columnCustomDisplayInfos": {},
       "data": [
        [
         "South",
         "United States",
         "Arkansas",
         11678.129999999997,
         240,
         "2025-05-30",
         null
        ],
        [
         "Central",
         "United States",
         "Michigan",
         76269.61400000002,
         946,
         "2025-05-30",
         null
        ],
        [
         "Central",
         "United States",
         "Kansas",
         2914.31,
         74,
         "2025-05-30",
         null
        ],
        [
         "South",
         "United States",
         "Virginia",
         70636.71999999999,
         893,
         "2025-05-30",
         null
        ],
        [
         "East",
         "United States",
         "Delaware",
         27451.068999999992,
         367,
         "2025-05-30",
         null
        ],
        [
         "East",
         "United States",
         "West Virginia",
         1209.824,
         18,
         "2025-05-30",
         null
        ],
        [
         "Central",
         "United States",
         "Iowa",
         4579.759999999999,
         112,
         "2025-05-30",
         null
        ],
        [
         "East",
         "United States",
         "Pennsylvania",
         116511.91400000003,
         2153,
         "2025-05-30",
         null
        ],
        [
         "South",
         "United States",
         "Louisiana",
         9217.029999999999,
         156,
         "2025-05-30",
         null
        ],
        [
         "Central",
         "United States",
         "Texas",
         170188.04580000002,
         3724,
         "2025-05-30",
         null
        ],
        [
         "Central",
         "United States",
         "Missouri",
         22205.149999999998,
         252,
         "2025-05-30",
         null
        ],
        [
         "East",
         "United States",
         "Maryland",
         23705.523,
         420,
         "2025-05-30",
         null
        ],
        [
         "Central",
         "United States",
         "Wisconsin",
         32114.61000000002,
         463,
         "2025-05-30",
         null
        ],
        [
         "East",
         "United States",
         "New Hampshire",
         7292.523999999999,
         127,
         "2025-05-30",
         null
        ],
        [
         "South",
         "United States",
         "Georgia",
         49095.840000000004,
         705,
         "2025-05-30",
         null
        ],
        [
         "Central",
         "United States",
         "Minnesota",
         29863.149999999994,
         331,
         "2025-05-30",
         null
        ],
        [
         "South",
         "United States",
         "North Carolina",
         55603.16399999997,
         983,
         "2025-05-30",
         null
        ],
        [
         "East",
         "United States",
         "Connecticut",
         13384.356999999996,
         281,
         "2025-05-30",
         null
        ],
        [
         "South",
         "United States",
         "South Carolina",
         8481.71,
         172,
         "2025-05-30",
         null
        ],
        [
         "South",
         "United States",
         "Mississippi",
         10771.34,
         221,
         "2025-05-30",
         null
        ],
        [
         "Central",
         "United States",
         "Illinois",
         80166.10099999986,
         1845,
         "2025-05-30",
         null
        ],
        [
         "West",
         "United States",
         "Montana",
         5589.351999999997,
         56,
         "2025-05-30",
         null
        ],
        [
         "West",
         "United States",
         "New Mexico",
         4783.521999999999,
         151,
         "2025-05-30",
         null
        ],
        [
         "West",
         "United States",
         "Washington",
         138641.26999999993,
         1883,
         "2025-05-30",
         null
        ],
        [
         "East",
         "United States",
         "Massachusetts",
         28634.433999999994,
         491,
         "2025-05-30",
         null
        ],
        [
         "South",
         "United States",
         "Alabama",
         19510.639999999992,
         256,
         "2025-05-30",
         null
        ],
        [
         "Central",
         "United States",
         "South Dakota",
         1315.5600000000002,
         42,
         "2025-05-30",
         null
        ],
        [
         "Central",
         "United States",
         "Nebraska",
         7464.9299999999985,
         136,
         "2025-05-30",
         null
        ],
        [
         "Central",
         "United States",
         "Indiana",
         53555.36,
         578,
         "2025-05-30",
         null
        ],
        [
         "Central",
         "United States",
         "Oklahoma",
         19683.39,
         247,
         "2025-05-30",
         null
        ],
        [
         "East",
         "United States",
         "New Jersey",
         35764.31200000001,
         454,
         "2025-05-30",
         null
        ],
        [
         "West",
         "United States",
         "Oregon",
         17431.14999999999,
         499,
         "2025-05-30",
         null
        ],
        [
         "South",
         "United States",
         "Kentucky",
         36591.74999999997,
         523,
         "2025-05-30",
         null
        ],
        [
         "East",
         "United States",
         "Maine",
         1270.5300000000002,
         35,
         "2025-05-30",
         null
        ],
        [
         "East",
         "United States",
         "Vermont",
         8929.369999999999,
         50,
         "2025-05-30",
         null
        ],
        [
         "West",
         "United States",
         "California",
         457687.631500001,
         7667,
         "2025-05-30",
         null
        ],
        [
         "West",
         "United States",
         "Utah",
         11220.055999999999,
         219,
         "2025-05-30",
         null
        ],
        [
         "West",
         "United States",
         "Arizona",
         35282.001,
         862,
         "2025-05-30",
         null
        ],
        [
         "East",
         "United States",
         "New York",
         310876.2709999998,
         4224,
         "2025-05-30",
         null
        ],
        [
         "West",
         "United States",
         "Colorado",
         32108.117999999995,
         693,
         "2025-05-30",
         null
        ],
        [
         "West",
         "United States",
         "Wyoming",
         1603.136,
         4,
         "2025-05-30",
         null
        ],
        [
         "East",
         "United States",
         "Ohio",
         78258.13599999993,
         1759,
         "2025-05-30",
         null
        ],
        [
         "Central",
         "United States",
         "North Dakota",
         919.91,
         30,
         "2025-05-30",
         null
        ],
        [
         "East",
         "United States",
         "Rhode Island",
         22627.955999999995,
         199,
         "2025-05-30",
         null
        ],
        [
         "West",
         "United States",
         "Nevada",
         16729.102,
         168,
         "2025-05-30",
         null
        ],
        [
         "South",
         "United States",
         "Tennessee",
         30661.87299999998,
         681,
         "2025-05-30",
         null
        ],
        [
         "East",
         "United States",
         "District of Columbia",
         2865.0199999999995,
         40,
         "2025-05-30",
         null
        ],
        [
         "West",
         "United States",
         "Idaho",
         4382.486000000002,
         64,
         "2025-05-30",
         null
        ],
        [
         "South",
         "United States",
         "Florida",
         89473.708,
         1379,
         "2025-05-30",
         null
        ]
       ],
       "datasetInfos": [],
       "dbfsResultPath": null,
       "isJsonSchema": true,
       "metadata": {},
       "overflow": false,
       "plotOptions": {
        "customPlotOptions": {},
        "displayType": "table",
        "pivotAggregation": null,
        "pivotColumns": null,
        "xColumns": null,
        "yColumns": null
       },
       "removedWidgets": [],
       "schema": [
        {
         "metadata": "{}",
         "name": "Region",
         "type": "\"string\""
        },
        {
         "metadata": "{}",
         "name": "Country",
         "type": "\"string\""
        },
        {
         "metadata": "{}",
         "name": "State",
         "type": "\"string\""
        },
        {
         "metadata": "{}",
         "name": "Sales",
         "type": "\"double\""
        },
        {
         "metadata": "{}",
         "name": "Quantity",
         "type": "\"integer\""
        },
        {
         "metadata": "{}",
         "name": "Snapshot_date",
         "type": "\"date\""
        },
        {
         "metadata": "{}",
         "name": "Profit",
         "type": "\"double\""
        }
       ],
       "type": "table"
      }
     },
     "output_type": "display_data"
    }
   ],
   "source": [
    "%sql\n",
    "select * from default.monthly_agg_orders where Snapshot_date='2025-05-30' -- while checking observe that the Profit column exists but is null for the previous date "
   ]
  },
  {
   "cell_type": "markdown",
   "metadata": {
    "application/vnd.databricks.v1+cell": {
     "cellMetadata": {},
     "inputWidgets": {},
     "nuid": "7a05d9f9-8447-424f-a4aa-44711eddb3eb",
     "showTitle": false,
     "tableResultSettingsMap": {},
     "title": ""
    }
   },
   "source": [
    "scenario 2: Lets say a column has been removed. "
   ]
  },
  {
   "cell_type": "code",
   "execution_count": 0,
   "metadata": {
    "application/vnd.databricks.v1+cell": {
     "cellMetadata": {
      "byteLimit": 2048000,
      "implicitDf": true,
      "rowLimit": 10000
     },
     "inputWidgets": {},
     "nuid": "fb986f60-8c87-4c88-8099-2eb45eac36c2",
     "showTitle": false,
     "tableResultSettingsMap": {},
     "title": ""
    }
   },
   "outputs": [
    {
     "output_type": "display_data",
     "data": {
      "text/html": [
       "<style scoped>\n",
       "  .table-result-container {\n",
       "    max-height: 300px;\n",
       "    overflow: auto;\n",
       "  }\n",
       "  table, th, td {\n",
       "    border: 1px solid black;\n",
       "    border-collapse: collapse;\n",
       "  }\n",
       "  th, td {\n",
       "    padding: 5px;\n",
       "  }\n",
       "  th {\n",
       "    text-align: left;\n",
       "  }\n",
       "</style><div class='table-result-container'><table class='table-result'><thead style='background-color: white'><tr></tr></thead><tbody></tbody></table></div>"
      ]
     },
     "metadata": {
      "application/vnd.databricks.v1+output": {
       "addedWidgets": {},
       "aggData": [],
       "aggError": "",
       "aggOverflow": false,
       "aggSchema": [],
       "aggSeriesLimitReached": false,
       "aggType": "",
       "arguments": {},
       "columnCustomDisplayInfos": {},
       "data": [],
       "datasetInfos": [],
       "dbfsResultPath": null,
       "isJsonSchema": true,
       "metadata": {},
       "overflow": false,
       "plotOptions": {
        "customPlotOptions": {},
        "displayType": "table",
        "pivotAggregation": null,
        "pivotColumns": null,
        "xColumns": null,
        "yColumns": null
       },
       "removedWidgets": [],
       "schema": [],
       "type": "table"
      }
     },
     "output_type": "display_data"
    }
   ],
   "source": [
    "%sql\n",
    "ALTER TABLE default.daily_agg_orders SET TBLPROPERTIES (\n",
    "  'delta.columnMapping.mode' = 'name',\n",
    "  'delta.minReaderVersion' = '2',\n",
    "  'delta.minWriterVersion' = '5'\n",
    ")"
   ]
  },
  {
   "cell_type": "code",
   "execution_count": 0,
   "metadata": {
    "application/vnd.databricks.v1+cell": {
     "cellMetadata": {
      "byteLimit": 2048000,
      "implicitDf": true,
      "rowLimit": 10000
     },
     "inputWidgets": {},
     "nuid": "31d5cfee-5aac-4723-8e6d-f963804f1dfb",
     "showTitle": false,
     "tableResultSettingsMap": {},
     "title": ""
    }
   },
   "outputs": [
    {
     "output_type": "display_data",
     "data": {
      "text/html": [
       "<style scoped>\n",
       "  .table-result-container {\n",
       "    max-height: 300px;\n",
       "    overflow: auto;\n",
       "  }\n",
       "  table, th, td {\n",
       "    border: 1px solid black;\n",
       "    border-collapse: collapse;\n",
       "  }\n",
       "  th, td {\n",
       "    padding: 5px;\n",
       "  }\n",
       "  th {\n",
       "    text-align: left;\n",
       "  }\n",
       "</style><div class='table-result-container'><table class='table-result'><thead style='background-color: white'><tr></tr></thead><tbody></tbody></table></div>"
      ]
     },
     "metadata": {
      "application/vnd.databricks.v1+output": {
       "addedWidgets": {},
       "aggData": [],
       "aggError": "",
       "aggOverflow": false,
       "aggSchema": [],
       "aggSeriesLimitReached": false,
       "aggType": "",
       "arguments": {},
       "columnCustomDisplayInfos": {},
       "data": [],
       "datasetInfos": [],
       "dbfsResultPath": null,
       "isJsonSchema": true,
       "metadata": {},
       "overflow": false,
       "plotOptions": {
        "customPlotOptions": {},
        "displayType": "table",
        "pivotAggregation": null,
        "pivotColumns": null,
        "xColumns": null,
        "yColumns": null
       },
       "removedWidgets": [],
       "schema": [],
       "type": "table"
      }
     },
     "output_type": "display_data"
    }
   ],
   "source": [
    "%sql\n",
    "ALTER TABLE default.daily_agg_orders DROP COLUMN Quantity"
   ]
  },
  {
   "cell_type": "markdown",
   "metadata": {
    "application/vnd.databricks.v1+cell": {
     "cellMetadata": {},
     "inputWidgets": {},
     "nuid": "f10cea93-2900-465f-85b5-08861a423b5c",
     "showTitle": false,
     "tableResultSettingsMap": {},
     "title": ""
    }
   },
   "source": [
    "Now lets see how schema evolution handles this scenario, observe that i will be using current_date()+1 for this "
   ]
  },
  {
   "cell_type": "code",
   "execution_count": 0,
   "metadata": {
    "application/vnd.databricks.v1+cell": {
     "cellMetadata": {
      "byteLimit": 2048000,
      "rowLimit": 10000
     },
     "inputWidgets": {},
     "nuid": "c1d3e472-460a-44c5-9269-9eaab4798998",
     "showTitle": false,
     "tableResultSettingsMap": {},
     "title": ""
    }
   },
   "outputs": [
    {
     "output_type": "stream",
     "name": "stdout",
     "output_type": "stream",
     "text": [
      "Historical data updated sucessfully for 2025-05-31\n"
     ]
    }
   ],
   "source": [
    "from pyspark.sql import SparkSession\n",
    "from pyspark.sql.functions import current_date, lit\n",
    "from datetime import datetime \n",
    "\n",
    "spark=SparkSession.builder.appName(\"SchemaEvolution\").getOrCreate()\n",
    "\n",
    "#Get daily data \n",
    "current_orders = spark.table(\"default.daily_agg_orders\")\n",
    "\n",
    "#Add date information \n",
    "Snapshot_date=datetime.now().strftime(\"%Y-%m-%d\")\n",
    "orders_with_snapshot=current_orders.withColumn(\"Snapshot_date\",current_date()+1) #here i have used current_date()+1 for demo purposes\n",
    "\n",
    "#Appending data to the monthly table - using schema evolution. If there exists no table it will create automatically \n",
    "orders_with_snapshot.write\\\n",
    "    .format(\"delta\")\\\n",
    "    .option(\"mergeSchema\",\"true\")\\\n",
    "    .mode(\"append\")\\\n",
    "    .saveAsTable(\"default.monthly_agg_orders\")\n",
    "\n",
    "print(f\"Historical data updated sucessfully for {Snapshot_date}\")"
   ]
  },
  {
   "cell_type": "code",
   "execution_count": 0,
   "metadata": {
    "application/vnd.databricks.v1+cell": {
     "cellMetadata": {
      "byteLimit": 2048000,
      "implicitDf": true,
      "rowLimit": 10000
     },
     "inputWidgets": {},
     "nuid": "d1d13d8b-4e73-4190-8871-0b7662c83b15",
     "showTitle": false,
     "tableResultSettingsMap": {},
     "title": ""
    }
   },
   "outputs": [
    {
     "output_type": "display_data",
     "data": {
      "text/html": [
       "<style scoped>\n",
       "  .table-result-container {\n",
       "    max-height: 300px;\n",
       "    overflow: auto;\n",
       "  }\n",
       "  table, th, td {\n",
       "    border: 1px solid black;\n",
       "    border-collapse: collapse;\n",
       "  }\n",
       "  th, td {\n",
       "    padding: 5px;\n",
       "  }\n",
       "  th {\n",
       "    text-align: left;\n",
       "  }\n",
       "</style><div class='table-result-container'><table class='table-result'><thead style='background-color: white'><tr><th>Region</th><th>Country</th><th>State</th><th>Sales</th><th>Quantity</th><th>Snapshot_date</th><th>Profit</th></tr></thead><tbody><tr><td>South</td><td>United States</td><td>Arkansas</td><td>11678.129999999997</td><td>null</td><td>2025-06-01</td><td>66.81145166666667</td></tr><tr><td>Central</td><td>United States</td><td>Michigan</td><td>76269.61400000002</td><td>null</td><td>2025-06-01</td><td>95.93406901960782</td></tr><tr><td>Central</td><td>United States</td><td>Kansas</td><td>2914.31</td><td>null</td><td>2025-06-01</td><td>34.8518125</td></tr><tr><td>South</td><td>United States</td><td>Virginia</td><td>70636.71999999999</td><td>null</td><td>2025-06-01</td><td>83.02656428571429</td></tr><tr><td>East</td><td>United States</td><td>Delaware</td><td>27451.068999999992</td><td>null</td><td>2025-06-01</td><td>103.93098750000001</td></tr><tr><td>East</td><td>United States</td><td>West Virginia</td><td>1209.824</td><td>null</td><td>2025-06-01</td><td>46.4804</td></tr><tr><td>Central</td><td>United States</td><td>Iowa</td><td>4579.759999999999</td><td>null</td><td>2025-06-01</td><td>39.460396666666675</td></tr><tr><td>East</td><td>United States</td><td>Pennsylvania</td><td>116511.91400000003</td><td>null</td><td>2025-06-01</td><td>-26.507598466780262</td></tr><tr><td>South</td><td>United States</td><td>Louisiana</td><td>9217.029999999999</td><td>null</td><td>2025-06-01</td><td>52.28815000000002</td></tr><tr><td>Central</td><td>United States</td><td>Texas</td><td>170188.04580000002</td><td>null</td><td>2025-06-01</td><td>-26.12117390862944</td></tr><tr><td>Central</td><td>United States</td><td>Missouri</td><td>22205.149999999998</td><td>null</td><td>2025-06-01</td><td>97.5183409090909</td></tr><tr><td>East</td><td>United States</td><td>Maryland</td><td>23705.523</td><td>null</td><td>2025-06-01</td><td>66.9636076190476</td></tr><tr><td>Central</td><td>United States</td><td>Wisconsin</td><td>32114.61000000002</td><td>null</td><td>2025-06-01</td><td>76.38000363636363</td></tr><tr><td>East</td><td>United States</td><td>New Hampshire</td><td>7292.523999999999</td><td>null</td><td>2025-06-01</td><td>63.2038074074074</td></tr><tr><td>South</td><td>United States</td><td>Georgia</td><td>49095.840000000004</td><td>null</td><td>2025-06-01</td><td>88.31545271739132</td></tr><tr><td>Central</td><td>United States</td><td>Minnesota</td><td>29863.149999999994</td><td>null</td><td>2025-06-01</td><td>121.60884719101125</td></tr><tr><td>South</td><td>United States</td><td>North Carolina</td><td>55603.16399999997</td><td>null</td><td>2025-06-01</td><td>-30.083984738955838</td></tr><tr><td>East</td><td>United States</td><td>Connecticut</td><td>13384.356999999996</td><td>null</td><td>2025-06-01</td><td>42.82307073170732</td></tr><tr><td>South</td><td>United States</td><td>South Carolina</td><td>8481.71</td><td>null</td><td>2025-06-01</td><td>42.12039523809525</td></tr><tr><td>South</td><td>United States</td><td>Mississippi</td><td>10771.34</td><td>null</td><td>2025-06-01</td><td>59.86747547169808</td></tr><tr><td>Central</td><td>United States</td><td>Illinois</td><td>80166.10099999986</td><td>null</td><td>2025-06-01</td><td>-25.625786585365816</td></tr><tr><td>West</td><td>United States</td><td>Montana</td><td>5589.351999999997</td><td>null</td><td>2025-06-01</td><td>122.2219</td></tr><tr><td>West</td><td>United States</td><td>New Mexico</td><td>4783.521999999999</td><td>null</td><td>2025-06-01</td><td>31.273408108108107</td></tr><tr><td>West</td><td>United States</td><td>Washington</td><td>138641.26999999993</td><td>null</td><td>2025-06-01</td><td>66.0131456521739</td></tr><tr><td>East</td><td>United States</td><td>Massachusetts</td><td>28634.433999999994</td><td>null</td><td>2025-06-01</td><td>50.262974814814854</td></tr><tr><td>South</td><td>United States</td><td>Alabama</td><td>19510.639999999992</td><td>null</td><td>2025-06-01</td><td>94.86598852459014</td></tr><tr><td>Central</td><td>United States</td><td>South Dakota</td><td>1315.5600000000002</td><td>null</td><td>2025-06-01</td><td>32.90235833333333</td></tr><tr><td>Central</td><td>United States</td><td>Nebraska</td><td>7464.9299999999985</td><td>null</td><td>2025-06-01</td><td>53.60774210526318</td></tr><tr><td>Central</td><td>United States</td><td>Indiana</td><td>53555.36</td><td>null</td><td>2025-06-01</td><td>123.37541140939601</td></tr><tr><td>Central</td><td>United States</td><td>Oklahoma</td><td>19683.39</td><td>null</td><td>2025-06-01</td><td>73.54478787878789</td></tr><tr><td>East</td><td>United States</td><td>New Jersey</td><td>35764.31200000001</td><td>null</td><td>2025-06-01</td><td>75.17626</td></tr><tr><td>West</td><td>United States</td><td>Oregon</td><td>17431.14999999999</td><td>null</td><td>2025-06-01</td><td>-9.600568548387091</td></tr><tr><td>South</td><td>United States</td><td>Kentucky</td><td>36591.74999999997</td><td>null</td><td>2025-06-01</td><td>80.5733568345324</td></tr><tr><td>East</td><td>United States</td><td>Maine</td><td>1270.5300000000002</td><td>null</td><td>2025-06-01</td><td>56.810775</td></tr><tr><td>East</td><td>United States</td><td>Vermont</td><td>8929.369999999999</td><td>null</td><td>2025-06-01</td><td>204.08893636363638</td></tr><tr><td>West</td><td>United States</td><td>California</td><td>457687.631500001</td><td>null</td><td>2025-06-01</td><td>38.17160774612702</td></tr><tr><td>West</td><td>United States</td><td>Utah</td><td>11220.055999999999</td><td>null</td><td>2025-06-01</td><td>48.04780188679246</td></tr><tr><td>West</td><td>United States</td><td>Arizona</td><td>35282.001</td><td>null</td><td>2025-06-01</td><td>-15.303234821428571</td></tr><tr><td>East</td><td>United States</td><td>New York</td><td>310876.2709999998</td><td>null</td><td>2025-06-01</td><td>65.63701117021282</td></tr><tr><td>West</td><td>United States</td><td>Colorado</td><td>32108.117999999995</td><td>null</td><td>2025-06-01</td><td>-35.8673510989011</td></tr><tr><td>West</td><td>United States</td><td>Wyoming</td><td>1603.136</td><td>null</td><td>2025-06-01</td><td>100.196</td></tr><tr><td>East</td><td>United States</td><td>Ohio</td><td>78258.13599999993</td><td>null</td><td>2025-06-01</td><td>-36.18630405117275</td></tr><tr><td>Central</td><td>United States</td><td>North Dakota</td><td>919.91</td><td>null</td><td>2025-06-01</td><td>32.87852857142857</td></tr><tr><td>East</td><td>United States</td><td>Rhode Island</td><td>22627.955999999995</td><td>null</td><td>2025-06-01</td><td>130.10052321428574</td></tr><tr><td>West</td><td>United States</td><td>Nevada</td><td>16729.102</td><td>null</td><td>2025-06-01</td><td>85.04527948717949</td></tr><tr><td>South</td><td>United States</td><td>Tennessee</td><td>30661.87299999998</td><td>null</td><td>2025-06-01</td><td>-29.1895825136612</td></tr><tr><td>East</td><td>United States</td><td>District of Columbia</td><td>2865.0199999999995</td><td>null</td><td>2025-06-01</td><td>105.95892999999998</td></tr><tr><td>West</td><td>United States</td><td>Idaho</td><td>4382.486000000002</td><td>null</td><td>2025-06-01</td><td>39.36776666666666</td></tr><tr><td>South</td><td>United States</td><td>Florida</td><td>89473.708</td><td>null</td><td>2025-06-01</td><td>-8.87546135770235</td></tr></tbody></table></div>"
      ]
     },
     "metadata": {
      "application/vnd.databricks.v1+output": {
       "addedWidgets": {},
       "aggData": [],
       "aggError": "",
       "aggOverflow": false,
       "aggSchema": [],
       "aggSeriesLimitReached": false,
       "aggType": "",
       "arguments": {},
       "columnCustomDisplayInfos": {},
       "data": [
        [
         "South",
         "United States",
         "Arkansas",
         11678.129999999997,
         null,
         "2025-06-01",
         66.81145166666667
        ],
        [
         "Central",
         "United States",
         "Michigan",
         76269.61400000002,
         null,
         "2025-06-01",
         95.93406901960782
        ],
        [
         "Central",
         "United States",
         "Kansas",
         2914.31,
         null,
         "2025-06-01",
         34.8518125
        ],
        [
         "South",
         "United States",
         "Virginia",
         70636.71999999999,
         null,
         "2025-06-01",
         83.02656428571429
        ],
        [
         "East",
         "United States",
         "Delaware",
         27451.068999999992,
         null,
         "2025-06-01",
         103.93098750000001
        ],
        [
         "East",
         "United States",
         "West Virginia",
         1209.824,
         null,
         "2025-06-01",
         46.4804
        ],
        [
         "Central",
         "United States",
         "Iowa",
         4579.759999999999,
         null,
         "2025-06-01",
         39.460396666666675
        ],
        [
         "East",
         "United States",
         "Pennsylvania",
         116511.91400000003,
         null,
         "2025-06-01",
         -26.507598466780262
        ],
        [
         "South",
         "United States",
         "Louisiana",
         9217.029999999999,
         null,
         "2025-06-01",
         52.28815000000002
        ],
        [
         "Central",
         "United States",
         "Texas",
         170188.04580000002,
         null,
         "2025-06-01",
         -26.12117390862944
        ],
        [
         "Central",
         "United States",
         "Missouri",
         22205.149999999998,
         null,
         "2025-06-01",
         97.5183409090909
        ],
        [
         "East",
         "United States",
         "Maryland",
         23705.523,
         null,
         "2025-06-01",
         66.9636076190476
        ],
        [
         "Central",
         "United States",
         "Wisconsin",
         32114.61000000002,
         null,
         "2025-06-01",
         76.38000363636363
        ],
        [
         "East",
         "United States",
         "New Hampshire",
         7292.523999999999,
         null,
         "2025-06-01",
         63.2038074074074
        ],
        [
         "South",
         "United States",
         "Georgia",
         49095.840000000004,
         null,
         "2025-06-01",
         88.31545271739132
        ],
        [
         "Central",
         "United States",
         "Minnesota",
         29863.149999999994,
         null,
         "2025-06-01",
         121.60884719101125
        ],
        [
         "South",
         "United States",
         "North Carolina",
         55603.16399999997,
         null,
         "2025-06-01",
         -30.083984738955838
        ],
        [
         "East",
         "United States",
         "Connecticut",
         13384.356999999996,
         null,
         "2025-06-01",
         42.82307073170732
        ],
        [
         "South",
         "United States",
         "South Carolina",
         8481.71,
         null,
         "2025-06-01",
         42.12039523809525
        ],
        [
         "South",
         "United States",
         "Mississippi",
         10771.34,
         null,
         "2025-06-01",
         59.86747547169808
        ],
        [
         "Central",
         "United States",
         "Illinois",
         80166.10099999986,
         null,
         "2025-06-01",
         -25.625786585365816
        ],
        [
         "West",
         "United States",
         "Montana",
         5589.351999999997,
         null,
         "2025-06-01",
         122.2219
        ],
        [
         "West",
         "United States",
         "New Mexico",
         4783.521999999999,
         null,
         "2025-06-01",
         31.273408108108107
        ],
        [
         "West",
         "United States",
         "Washington",
         138641.26999999993,
         null,
         "2025-06-01",
         66.0131456521739
        ],
        [
         "East",
         "United States",
         "Massachusetts",
         28634.433999999994,
         null,
         "2025-06-01",
         50.262974814814854
        ],
        [
         "South",
         "United States",
         "Alabama",
         19510.639999999992,
         null,
         "2025-06-01",
         94.86598852459014
        ],
        [
         "Central",
         "United States",
         "South Dakota",
         1315.5600000000002,
         null,
         "2025-06-01",
         32.90235833333333
        ],
        [
         "Central",
         "United States",
         "Nebraska",
         7464.9299999999985,
         null,
         "2025-06-01",
         53.60774210526318
        ],
        [
         "Central",
         "United States",
         "Indiana",
         53555.36,
         null,
         "2025-06-01",
         123.37541140939601
        ],
        [
         "Central",
         "United States",
         "Oklahoma",
         19683.39,
         null,
         "2025-06-01",
         73.54478787878789
        ],
        [
         "East",
         "United States",
         "New Jersey",
         35764.31200000001,
         null,
         "2025-06-01",
         75.17626
        ],
        [
         "West",
         "United States",
         "Oregon",
         17431.14999999999,
         null,
         "2025-06-01",
         -9.600568548387091
        ],
        [
         "South",
         "United States",
         "Kentucky",
         36591.74999999997,
         null,
         "2025-06-01",
         80.5733568345324
        ],
        [
         "East",
         "United States",
         "Maine",
         1270.5300000000002,
         null,
         "2025-06-01",
         56.810775
        ],
        [
         "East",
         "United States",
         "Vermont",
         8929.369999999999,
         null,
         "2025-06-01",
         204.08893636363638
        ],
        [
         "West",
         "United States",
         "California",
         457687.631500001,
         null,
         "2025-06-01",
         38.17160774612702
        ],
        [
         "West",
         "United States",
         "Utah",
         11220.055999999999,
         null,
         "2025-06-01",
         48.04780188679246
        ],
        [
         "West",
         "United States",
         "Arizona",
         35282.001,
         null,
         "2025-06-01",
         -15.303234821428571
        ],
        [
         "East",
         "United States",
         "New York",
         310876.2709999998,
         null,
         "2025-06-01",
         65.63701117021282
        ],
        [
         "West",
         "United States",
         "Colorado",
         32108.117999999995,
         null,
         "2025-06-01",
         -35.8673510989011
        ],
        [
         "West",
         "United States",
         "Wyoming",
         1603.136,
         null,
         "2025-06-01",
         100.196
        ],
        [
         "East",
         "United States",
         "Ohio",
         78258.13599999993,
         null,
         "2025-06-01",
         -36.18630405117275
        ],
        [
         "Central",
         "United States",
         "North Dakota",
         919.91,
         null,
         "2025-06-01",
         32.87852857142857
        ],
        [
         "East",
         "United States",
         "Rhode Island",
         22627.955999999995,
         null,
         "2025-06-01",
         130.10052321428574
        ],
        [
         "West",
         "United States",
         "Nevada",
         16729.102,
         null,
         "2025-06-01",
         85.04527948717949
        ],
        [
         "South",
         "United States",
         "Tennessee",
         30661.87299999998,
         null,
         "2025-06-01",
         -29.1895825136612
        ],
        [
         "East",
         "United States",
         "District of Columbia",
         2865.0199999999995,
         null,
         "2025-06-01",
         105.95892999999998
        ],
        [
         "West",
         "United States",
         "Idaho",
         4382.486000000002,
         null,
         "2025-06-01",
         39.36776666666666
        ],
        [
         "South",
         "United States",
         "Florida",
         89473.708,
         null,
         "2025-06-01",
         -8.87546135770235
        ]
       ],
       "datasetInfos": [],
       "dbfsResultPath": null,
       "isJsonSchema": true,
       "metadata": {},
       "overflow": false,
       "plotOptions": {
        "customPlotOptions": {},
        "displayType": "table",
        "pivotAggregation": null,
        "pivotColumns": null,
        "xColumns": null,
        "yColumns": null
       },
       "removedWidgets": [],
       "schema": [
        {
         "metadata": "{}",
         "name": "Region",
         "type": "\"string\""
        },
        {
         "metadata": "{}",
         "name": "Country",
         "type": "\"string\""
        },
        {
         "metadata": "{}",
         "name": "State",
         "type": "\"string\""
        },
        {
         "metadata": "{}",
         "name": "Sales",
         "type": "\"double\""
        },
        {
         "metadata": "{}",
         "name": "Quantity",
         "type": "\"integer\""
        },
        {
         "metadata": "{}",
         "name": "Snapshot_date",
         "type": "\"date\""
        },
        {
         "metadata": "{}",
         "name": "Profit",
         "type": "\"double\""
        }
       ],
       "type": "table"
      }
     },
     "output_type": "display_data"
    }
   ],
   "source": [
    "%sql\n",
    "select * from monthly_agg_orders where Snapshot_date='2025-06-01'"
   ]
  },
  {
   "cell_type": "markdown",
   "metadata": {
    "application/vnd.databricks.v1+cell": {
     "cellMetadata": {},
     "inputWidgets": {},
     "nuid": "bbc235d9-6e34-4c6e-8cc4-349e2e71a098",
     "showTitle": false,
     "tableResultSettingsMap": {},
     "title": ""
    }
   },
   "source": [
    "Scenario 3: Now lets say Quantity column in the source has been modified from int to double(doesnt make a real sense but just for demo purposes)"
   ]
  },
  {
   "cell_type": "code",
   "execution_count": 0,
   "metadata": {
    "application/vnd.databricks.v1+cell": {
     "cellMetadata": {
      "byteLimit": 2048000,
      "implicitDf": true,
      "rowLimit": 10000
     },
     "inputWidgets": {},
     "nuid": "bc70e91b-a933-4ee0-9428-2c8d7fac9cfe",
     "showTitle": false,
     "tableResultSettingsMap": {},
     "title": ""
    }
   },
   "outputs": [
    {
     "output_type": "display_data",
     "data": {
      "text/html": [
       "<style scoped>\n",
       "  .table-result-container {\n",
       "    max-height: 300px;\n",
       "    overflow: auto;\n",
       "  }\n",
       "  table, th, td {\n",
       "    border: 1px solid black;\n",
       "    border-collapse: collapse;\n",
       "  }\n",
       "  th, td {\n",
       "    padding: 5px;\n",
       "  }\n",
       "  th {\n",
       "    text-align: left;\n",
       "  }\n",
       "</style><div class='table-result-container'><table class='table-result'><thead style='background-color: white'><tr></tr></thead><tbody></tbody></table></div>"
      ]
     },
     "metadata": {
      "application/vnd.databricks.v1+output": {
       "addedWidgets": {},
       "aggData": [],
       "aggError": "",
       "aggOverflow": false,
       "aggSchema": [],
       "aggSeriesLimitReached": false,
       "aggType": "",
       "arguments": {},
       "columnCustomDisplayInfos": {},
       "data": [],
       "datasetInfos": [],
       "dbfsResultPath": null,
       "isJsonSchema": true,
       "metadata": {},
       "overflow": false,
       "plotOptions": {
        "customPlotOptions": {},
        "displayType": "table",
        "pivotAggregation": null,
        "pivotColumns": null,
        "xColumns": null,
        "yColumns": null
       },
       "removedWidgets": [],
       "schema": [],
       "type": "table"
      }
     },
     "output_type": "display_data"
    }
   ],
   "source": [
    "%sql\n",
    "CREATE OR REPLACE TABLE default.daily_agg_orders \n",
    "(\n",
    "  Region STRING,\n",
    "  Country STRING,\n",
    "  State STRING,\n",
    "  Sales DOUBLE,\n",
    "  Quantity DOUBLE,-- here \n",
    "  Profit DOUBLE\n",
    ")"
   ]
  },
  {
   "cell_type": "code",
   "execution_count": 0,
   "metadata": {
    "application/vnd.databricks.v1+cell": {
     "cellMetadata": {
      "byteLimit": 2048000,
      "implicitDf": true,
      "rowLimit": 10000
     },
     "inputWidgets": {},
     "nuid": "c210e043-584e-4543-9ed6-c08f86402775",
     "showTitle": false,
     "tableResultSettingsMap": {},
     "title": ""
    }
   },
   "outputs": [
    {
     "output_type": "display_data",
     "data": {
      "text/html": [
       "<style scoped>\n",
       "  .table-result-container {\n",
       "    max-height: 300px;\n",
       "    overflow: auto;\n",
       "  }\n",
       "  table, th, td {\n",
       "    border: 1px solid black;\n",
       "    border-collapse: collapse;\n",
       "  }\n",
       "  th, td {\n",
       "    padding: 5px;\n",
       "  }\n",
       "  th {\n",
       "    text-align: left;\n",
       "  }\n",
       "</style><div class='table-result-container'><table class='table-result'><thead style='background-color: white'><tr><th>num_affected_rows</th><th>num_inserted_rows</th></tr></thead><tbody><tr><td>49</td><td>49</td></tr></tbody></table></div>"
      ]
     },
     "metadata": {
      "application/vnd.databricks.v1+output": {
       "addedWidgets": {},
       "aggData": [],
       "aggError": "",
       "aggOverflow": false,
       "aggSchema": [],
       "aggSeriesLimitReached": false,
       "aggType": "",
       "arguments": {},
       "columnCustomDisplayInfos": {},
       "data": [
        [
         49,
         49
        ]
       ],
       "datasetInfos": [],
       "dbfsResultPath": null,
       "isJsonSchema": true,
       "metadata": {},
       "overflow": false,
       "plotOptions": {
        "customPlotOptions": {},
        "displayType": "table",
        "pivotAggregation": null,
        "pivotColumns": null,
        "xColumns": null,
        "yColumns": null
       },
       "removedWidgets": [],
       "schema": [
        {
         "metadata": "{}",
         "name": "num_affected_rows",
         "type": "\"long\""
        },
        {
         "metadata": "{}",
         "name": "num_inserted_rows",
         "type": "\"long\""
        }
       ],
       "type": "table"
      }
     },
     "output_type": "display_data"
    }
   ],
   "source": [
    "%sql\n",
    "INSERT INTO default.daily_agg_orders\n",
    "SELECT Region,\n",
    "Country,\n",
    "State,\n",
    "SUM(sales) as Sales,\n",
    "SUM(Quantity) as Quantity,\n",
    "AVG(Profit) as avg_Profit\n",
    "from default.schema_evolution --this is just a simple superstore dataset\n",
    "group by 1,2,3"
   ]
  },
  {
   "cell_type": "code",
   "execution_count": 0,
   "metadata": {
    "application/vnd.databricks.v1+cell": {
     "cellMetadata": {
      "byteLimit": 2048000,
      "rowLimit": 10000
     },
     "inputWidgets": {},
     "nuid": "522ae3b0-7336-42c2-bf92-477c99528cdb",
     "showTitle": false,
     "tableResultSettingsMap": {},
     "title": ""
    }
   },
   "outputs": [
    {
     "output_type": "stream",
     "name": "stdout",
     "output_type": "stream",
     "text": [
      "Historical data updated successfully for snapshot: 2025-05-31\n"
     ]
    }
   ],
   "source": [
    "from pyspark.sql import SparkSession\n",
    "from pyspark.sql.functions import current_date, col\n",
    "from datetime import datetime\n",
    "\n",
    "# Initialize Spark session\n",
    "spark = SparkSession.builder.appName(\"SchemaAlignmentWrite\").getOrCreate()\n",
    "\n",
    "# Define table names\n",
    "source_table = \"default.daily_agg_orders\"\n",
    "target_table = \"default.monthly_agg_orders\"\n",
    "\n",
    "# Read source table\n",
    "source_df = spark.table(source_table)\n",
    "\n",
    "# Add snapshot date (demo: current_date + 2)\n",
    "snapshot_date = datetime.now().strftime(\"%Y-%m-%d\")\n",
    "source_df = source_df.withColumn(\"Snapshot_date\", current_date() + 2)\n",
    "\n",
    "# Try reading the target table and aligning schemas\n",
    "try:\n",
    "    target_df = spark.table(target_table)\n",
    "    target_schema = {field.name: field.dataType for field in target_df.schema}\n",
    "\n",
    "    # Align source columns to match target schema types\n",
    "    aligned_columns = []\n",
    "    for field in source_df.schema:\n",
    "        column_name = field.name\n",
    "        if column_name in target_schema:\n",
    "            target_type = target_schema[column_name]\n",
    "            aligned_columns.append(col(column_name).cast(target_type).alias(column_name))\n",
    "        else:\n",
    "            aligned_columns.append(col(column_name))\n",
    "    \n",
    "    aligned_df = source_df.select(*aligned_columns)\n",
    "\n",
    "except Exception as e:\n",
    "    # If target table doesn't exist yet, proceed with source as-is\n",
    "    aligned_df = source_df\n",
    "    print(f\"Target table not found or not readable: {e}\")\n",
    "\n",
    "# Write using schema evolution (append mode)\n",
    "aligned_df.write \\\n",
    "    .format(\"delta\") \\\n",
    "    .option(\"mergeSchema\", \"true\") \\\n",
    "    .mode(\"append\") \\\n",
    "    .saveAsTable(target_table)\n",
    "\n",
    "print(f\"Historical data updated successfully for snapshot: {snapshot_date}\")\n"
   ]
  },
  {
   "cell_type": "code",
   "execution_count": 0,
   "metadata": {
    "application/vnd.databricks.v1+cell": {
     "cellMetadata": {
      "byteLimit": 2048000,
      "implicitDf": true,
      "rowLimit": 10000
     },
     "inputWidgets": {},
     "nuid": "056a2cdb-3bab-4435-b7e9-200c621c7296",
     "showTitle": false,
     "tableResultSettingsMap": {},
     "title": ""
    }
   },
   "outputs": [
    {
     "output_type": "display_data",
     "data": {
      "text/html": [
       "<style scoped>\n",
       "  .table-result-container {\n",
       "    max-height: 300px;\n",
       "    overflow: auto;\n",
       "  }\n",
       "  table, th, td {\n",
       "    border: 1px solid black;\n",
       "    border-collapse: collapse;\n",
       "  }\n",
       "  th, td {\n",
       "    padding: 5px;\n",
       "  }\n",
       "  th {\n",
       "    text-align: left;\n",
       "  }\n",
       "</style><div class='table-result-container'><table class='table-result'><thead style='background-color: white'><tr><th>Region</th><th>Country</th><th>State</th><th>Sales</th><th>Quantity</th><th>Profit</th></tr></thead><tbody><tr><td>South</td><td>United States</td><td>Arkansas</td><td>11678.129999999997</td><td>240.0</td><td>66.81145166666667</td></tr><tr><td>Central</td><td>United States</td><td>Michigan</td><td>76269.61400000002</td><td>946.0</td><td>95.93406901960782</td></tr><tr><td>Central</td><td>United States</td><td>Kansas</td><td>2914.31</td><td>74.0</td><td>34.8518125</td></tr><tr><td>South</td><td>United States</td><td>Virginia</td><td>70636.71999999999</td><td>893.0</td><td>83.02656428571429</td></tr><tr><td>East</td><td>United States</td><td>Delaware</td><td>27451.068999999992</td><td>367.0</td><td>103.93098750000001</td></tr><tr><td>East</td><td>United States</td><td>West Virginia</td><td>1209.824</td><td>18.0</td><td>46.4804</td></tr><tr><td>Central</td><td>United States</td><td>Iowa</td><td>4579.759999999999</td><td>112.0</td><td>39.460396666666675</td></tr><tr><td>East</td><td>United States</td><td>Pennsylvania</td><td>116511.91400000003</td><td>2153.0</td><td>-26.507598466780262</td></tr><tr><td>South</td><td>United States</td><td>Louisiana</td><td>9217.029999999999</td><td>156.0</td><td>52.28815000000002</td></tr><tr><td>Central</td><td>United States</td><td>Texas</td><td>170188.04580000002</td><td>3724.0</td><td>-26.12117390862944</td></tr><tr><td>Central</td><td>United States</td><td>Missouri</td><td>22205.149999999998</td><td>252.0</td><td>97.5183409090909</td></tr><tr><td>East</td><td>United States</td><td>Maryland</td><td>23705.523</td><td>420.0</td><td>66.9636076190476</td></tr><tr><td>Central</td><td>United States</td><td>Wisconsin</td><td>32114.61000000002</td><td>463.0</td><td>76.38000363636363</td></tr><tr><td>East</td><td>United States</td><td>New Hampshire</td><td>7292.523999999999</td><td>127.0</td><td>63.2038074074074</td></tr><tr><td>South</td><td>United States</td><td>Georgia</td><td>49095.840000000004</td><td>705.0</td><td>88.31545271739132</td></tr><tr><td>Central</td><td>United States</td><td>Minnesota</td><td>29863.149999999994</td><td>331.0</td><td>121.60884719101125</td></tr><tr><td>South</td><td>United States</td><td>North Carolina</td><td>55603.16399999997</td><td>983.0</td><td>-30.083984738955838</td></tr><tr><td>East</td><td>United States</td><td>Connecticut</td><td>13384.356999999996</td><td>281.0</td><td>42.82307073170732</td></tr><tr><td>South</td><td>United States</td><td>South Carolina</td><td>8481.71</td><td>172.0</td><td>42.12039523809525</td></tr><tr><td>South</td><td>United States</td><td>Mississippi</td><td>10771.34</td><td>221.0</td><td>59.86747547169808</td></tr><tr><td>Central</td><td>United States</td><td>Illinois</td><td>80166.10099999986</td><td>1845.0</td><td>-25.625786585365816</td></tr><tr><td>West</td><td>United States</td><td>Montana</td><td>5589.351999999997</td><td>56.0</td><td>122.2219</td></tr><tr><td>West</td><td>United States</td><td>New Mexico</td><td>4783.521999999999</td><td>151.0</td><td>31.273408108108107</td></tr><tr><td>West</td><td>United States</td><td>Washington</td><td>138641.26999999993</td><td>1883.0</td><td>66.0131456521739</td></tr><tr><td>East</td><td>United States</td><td>Massachusetts</td><td>28634.433999999994</td><td>491.0</td><td>50.262974814814854</td></tr><tr><td>South</td><td>United States</td><td>Alabama</td><td>19510.639999999992</td><td>256.0</td><td>94.86598852459014</td></tr><tr><td>Central</td><td>United States</td><td>South Dakota</td><td>1315.5600000000002</td><td>42.0</td><td>32.90235833333333</td></tr><tr><td>Central</td><td>United States</td><td>Nebraska</td><td>7464.9299999999985</td><td>136.0</td><td>53.60774210526318</td></tr><tr><td>Central</td><td>United States</td><td>Indiana</td><td>53555.36</td><td>578.0</td><td>123.37541140939601</td></tr><tr><td>Central</td><td>United States</td><td>Oklahoma</td><td>19683.39</td><td>247.0</td><td>73.54478787878789</td></tr><tr><td>East</td><td>United States</td><td>New Jersey</td><td>35764.31200000001</td><td>454.0</td><td>75.17626</td></tr><tr><td>West</td><td>United States</td><td>Oregon</td><td>17431.14999999999</td><td>499.0</td><td>-9.600568548387091</td></tr><tr><td>South</td><td>United States</td><td>Kentucky</td><td>36591.74999999997</td><td>523.0</td><td>80.5733568345324</td></tr><tr><td>East</td><td>United States</td><td>Maine</td><td>1270.5300000000002</td><td>35.0</td><td>56.810775</td></tr><tr><td>East</td><td>United States</td><td>Vermont</td><td>8929.369999999999</td><td>50.0</td><td>204.08893636363638</td></tr><tr><td>West</td><td>United States</td><td>California</td><td>457687.631500001</td><td>7667.0</td><td>38.17160774612702</td></tr><tr><td>West</td><td>United States</td><td>Utah</td><td>11220.055999999999</td><td>219.0</td><td>48.04780188679246</td></tr><tr><td>West</td><td>United States</td><td>Arizona</td><td>35282.001</td><td>862.0</td><td>-15.303234821428571</td></tr><tr><td>East</td><td>United States</td><td>New York</td><td>310876.2709999998</td><td>4224.0</td><td>65.63701117021282</td></tr><tr><td>West</td><td>United States</td><td>Colorado</td><td>32108.117999999995</td><td>693.0</td><td>-35.8673510989011</td></tr><tr><td>West</td><td>United States</td><td>Wyoming</td><td>1603.136</td><td>4.0</td><td>100.196</td></tr><tr><td>East</td><td>United States</td><td>Ohio</td><td>78258.13599999993</td><td>1759.0</td><td>-36.18630405117275</td></tr><tr><td>Central</td><td>United States</td><td>North Dakota</td><td>919.91</td><td>30.0</td><td>32.87852857142857</td></tr><tr><td>East</td><td>United States</td><td>Rhode Island</td><td>22627.955999999995</td><td>199.0</td><td>130.10052321428574</td></tr><tr><td>West</td><td>United States</td><td>Nevada</td><td>16729.102</td><td>168.0</td><td>85.04527948717949</td></tr><tr><td>South</td><td>United States</td><td>Tennessee</td><td>30661.87299999998</td><td>681.0</td><td>-29.1895825136612</td></tr><tr><td>East</td><td>United States</td><td>District of Columbia</td><td>2865.0199999999995</td><td>40.0</td><td>105.95892999999998</td></tr><tr><td>West</td><td>United States</td><td>Idaho</td><td>4382.486000000002</td><td>64.0</td><td>39.36776666666666</td></tr><tr><td>South</td><td>United States</td><td>Florida</td><td>89473.708</td><td>1379.0</td><td>-8.87546135770235</td></tr></tbody></table></div>"
      ]
     },
     "metadata": {
      "application/vnd.databricks.v1+output": {
       "addedWidgets": {},
       "aggData": [],
       "aggError": "",
       "aggOverflow": false,
       "aggSchema": [],
       "aggSeriesLimitReached": false,
       "aggType": "",
       "arguments": {},
       "columnCustomDisplayInfos": {},
       "data": [
        [
         "South",
         "United States",
         "Arkansas",
         11678.129999999997,
         240.0,
         66.81145166666667
        ],
        [
         "Central",
         "United States",
         "Michigan",
         76269.61400000002,
         946.0,
         95.93406901960782
        ],
        [
         "Central",
         "United States",
         "Kansas",
         2914.31,
         74.0,
         34.8518125
        ],
        [
         "South",
         "United States",
         "Virginia",
         70636.71999999999,
         893.0,
         83.02656428571429
        ],
        [
         "East",
         "United States",
         "Delaware",
         27451.068999999992,
         367.0,
         103.93098750000001
        ],
        [
         "East",
         "United States",
         "West Virginia",
         1209.824,
         18.0,
         46.4804
        ],
        [
         "Central",
         "United States",
         "Iowa",
         4579.759999999999,
         112.0,
         39.460396666666675
        ],
        [
         "East",
         "United States",
         "Pennsylvania",
         116511.91400000003,
         2153.0,
         -26.507598466780262
        ],
        [
         "South",
         "United States",
         "Louisiana",
         9217.029999999999,
         156.0,
         52.28815000000002
        ],
        [
         "Central",
         "United States",
         "Texas",
         170188.04580000002,
         3724.0,
         -26.12117390862944
        ],
        [
         "Central",
         "United States",
         "Missouri",
         22205.149999999998,
         252.0,
         97.5183409090909
        ],
        [
         "East",
         "United States",
         "Maryland",
         23705.523,
         420.0,
         66.9636076190476
        ],
        [
         "Central",
         "United States",
         "Wisconsin",
         32114.61000000002,
         463.0,
         76.38000363636363
        ],
        [
         "East",
         "United States",
         "New Hampshire",
         7292.523999999999,
         127.0,
         63.2038074074074
        ],
        [
         "South",
         "United States",
         "Georgia",
         49095.840000000004,
         705.0,
         88.31545271739132
        ],
        [
         "Central",
         "United States",
         "Minnesota",
         29863.149999999994,
         331.0,
         121.60884719101125
        ],
        [
         "South",
         "United States",
         "North Carolina",
         55603.16399999997,
         983.0,
         -30.083984738955838
        ],
        [
         "East",
         "United States",
         "Connecticut",
         13384.356999999996,
         281.0,
         42.82307073170732
        ],
        [
         "South",
         "United States",
         "South Carolina",
         8481.71,
         172.0,
         42.12039523809525
        ],
        [
         "South",
         "United States",
         "Mississippi",
         10771.34,
         221.0,
         59.86747547169808
        ],
        [
         "Central",
         "United States",
         "Illinois",
         80166.10099999986,
         1845.0,
         -25.625786585365816
        ],
        [
         "West",
         "United States",
         "Montana",
         5589.351999999997,
         56.0,
         122.2219
        ],
        [
         "West",
         "United States",
         "New Mexico",
         4783.521999999999,
         151.0,
         31.273408108108107
        ],
        [
         "West",
         "United States",
         "Washington",
         138641.26999999993,
         1883.0,
         66.0131456521739
        ],
        [
         "East",
         "United States",
         "Massachusetts",
         28634.433999999994,
         491.0,
         50.262974814814854
        ],
        [
         "South",
         "United States",
         "Alabama",
         19510.639999999992,
         256.0,
         94.86598852459014
        ],
        [
         "Central",
         "United States",
         "South Dakota",
         1315.5600000000002,
         42.0,
         32.90235833333333
        ],
        [
         "Central",
         "United States",
         "Nebraska",
         7464.9299999999985,
         136.0,
         53.60774210526318
        ],
        [
         "Central",
         "United States",
         "Indiana",
         53555.36,
         578.0,
         123.37541140939601
        ],
        [
         "Central",
         "United States",
         "Oklahoma",
         19683.39,
         247.0,
         73.54478787878789
        ],
        [
         "East",
         "United States",
         "New Jersey",
         35764.31200000001,
         454.0,
         75.17626
        ],
        [
         "West",
         "United States",
         "Oregon",
         17431.14999999999,
         499.0,
         -9.600568548387091
        ],
        [
         "South",
         "United States",
         "Kentucky",
         36591.74999999997,
         523.0,
         80.5733568345324
        ],
        [
         "East",
         "United States",
         "Maine",
         1270.5300000000002,
         35.0,
         56.810775
        ],
        [
         "East",
         "United States",
         "Vermont",
         8929.369999999999,
         50.0,
         204.08893636363638
        ],
        [
         "West",
         "United States",
         "California",
         457687.631500001,
         7667.0,
         38.17160774612702
        ],
        [
         "West",
         "United States",
         "Utah",
         11220.055999999999,
         219.0,
         48.04780188679246
        ],
        [
         "West",
         "United States",
         "Arizona",
         35282.001,
         862.0,
         -15.303234821428571
        ],
        [
         "East",
         "United States",
         "New York",
         310876.2709999998,
         4224.0,
         65.63701117021282
        ],
        [
         "West",
         "United States",
         "Colorado",
         32108.117999999995,
         693.0,
         -35.8673510989011
        ],
        [
         "West",
         "United States",
         "Wyoming",
         1603.136,
         4.0,
         100.196
        ],
        [
         "East",
         "United States",
         "Ohio",
         78258.13599999993,
         1759.0,
         -36.18630405117275
        ],
        [
         "Central",
         "United States",
         "North Dakota",
         919.91,
         30.0,
         32.87852857142857
        ],
        [
         "East",
         "United States",
         "Rhode Island",
         22627.955999999995,
         199.0,
         130.10052321428574
        ],
        [
         "West",
         "United States",
         "Nevada",
         16729.102,
         168.0,
         85.04527948717949
        ],
        [
         "South",
         "United States",
         "Tennessee",
         30661.87299999998,
         681.0,
         -29.1895825136612
        ],
        [
         "East",
         "United States",
         "District of Columbia",
         2865.0199999999995,
         40.0,
         105.95892999999998
        ],
        [
         "West",
         "United States",
         "Idaho",
         4382.486000000002,
         64.0,
         39.36776666666666
        ],
        [
         "South",
         "United States",
         "Florida",
         89473.708,
         1379.0,
         -8.87546135770235
        ]
       ],
       "datasetInfos": [],
       "dbfsResultPath": null,
       "isJsonSchema": true,
       "metadata": {},
       "overflow": false,
       "plotOptions": {
        "customPlotOptions": {},
        "displayType": "table",
        "pivotAggregation": null,
        "pivotColumns": null,
        "xColumns": null,
        "yColumns": null
       },
       "removedWidgets": [],
       "schema": [
        {
         "metadata": "{}",
         "name": "Region",
         "type": "\"string\""
        },
        {
         "metadata": "{}",
         "name": "Country",
         "type": "\"string\""
        },
        {
         "metadata": "{}",
         "name": "State",
         "type": "\"string\""
        },
        {
         "metadata": "{}",
         "name": "Sales",
         "type": "\"double\""
        },
        {
         "metadata": "{}",
         "name": "Quantity",
         "type": "\"double\""
        },
        {
         "metadata": "{}",
         "name": "Profit",
         "type": "\"double\""
        }
       ],
       "type": "table"
      }
     },
     "output_type": "display_data"
    }
   ],
   "source": [
    "%sql\n",
    "select * from daily_agg_orders -- you can see that the Quantity column is of type double"
   ]
  },
  {
   "cell_type": "code",
   "execution_count": 0,
   "metadata": {
    "application/vnd.databricks.v1+cell": {
     "cellMetadata": {
      "byteLimit": 2048000,
      "implicitDf": true,
      "rowLimit": 10000
     },
     "inputWidgets": {},
     "nuid": "6f9e4d93-78d2-4ecb-98ed-6f956fa2b6d9",
     "showTitle": false,
     "tableResultSettingsMap": {},
     "title": ""
    }
   },
   "outputs": [
    {
     "output_type": "display_data",
     "data": {
      "text/html": [
       "<style scoped>\n",
       "  .table-result-container {\n",
       "    max-height: 300px;\n",
       "    overflow: auto;\n",
       "  }\n",
       "  table, th, td {\n",
       "    border: 1px solid black;\n",
       "    border-collapse: collapse;\n",
       "  }\n",
       "  th, td {\n",
       "    padding: 5px;\n",
       "  }\n",
       "  th {\n",
       "    text-align: left;\n",
       "  }\n",
       "</style><div class='table-result-container'><table class='table-result'><thead style='background-color: white'><tr><th>Region</th><th>Country</th><th>State</th><th>Sales</th><th>Quantity</th><th>Snapshot_date</th><th>Profit</th></tr></thead><tbody><tr><td>South</td><td>United States</td><td>Arkansas</td><td>11678.129999999997</td><td>240</td><td>2025-06-02</td><td>66.81145166666667</td></tr><tr><td>Central</td><td>United States</td><td>Michigan</td><td>76269.61400000002</td><td>946</td><td>2025-06-02</td><td>95.93406901960782</td></tr><tr><td>Central</td><td>United States</td><td>Kansas</td><td>2914.31</td><td>74</td><td>2025-06-02</td><td>34.8518125</td></tr><tr><td>South</td><td>United States</td><td>Virginia</td><td>70636.71999999999</td><td>893</td><td>2025-06-02</td><td>83.02656428571429</td></tr><tr><td>East</td><td>United States</td><td>Delaware</td><td>27451.068999999992</td><td>367</td><td>2025-06-02</td><td>103.93098750000001</td></tr><tr><td>East</td><td>United States</td><td>West Virginia</td><td>1209.824</td><td>18</td><td>2025-06-02</td><td>46.4804</td></tr><tr><td>Central</td><td>United States</td><td>Iowa</td><td>4579.759999999999</td><td>112</td><td>2025-06-02</td><td>39.460396666666675</td></tr><tr><td>East</td><td>United States</td><td>Pennsylvania</td><td>116511.91400000003</td><td>2153</td><td>2025-06-02</td><td>-26.507598466780262</td></tr><tr><td>South</td><td>United States</td><td>Louisiana</td><td>9217.029999999999</td><td>156</td><td>2025-06-02</td><td>52.28815000000002</td></tr><tr><td>Central</td><td>United States</td><td>Texas</td><td>170188.04580000002</td><td>3724</td><td>2025-06-02</td><td>-26.12117390862944</td></tr><tr><td>Central</td><td>United States</td><td>Missouri</td><td>22205.149999999998</td><td>252</td><td>2025-06-02</td><td>97.5183409090909</td></tr><tr><td>East</td><td>United States</td><td>Maryland</td><td>23705.523</td><td>420</td><td>2025-06-02</td><td>66.9636076190476</td></tr><tr><td>Central</td><td>United States</td><td>Wisconsin</td><td>32114.61000000002</td><td>463</td><td>2025-06-02</td><td>76.38000363636363</td></tr><tr><td>East</td><td>United States</td><td>New Hampshire</td><td>7292.523999999999</td><td>127</td><td>2025-06-02</td><td>63.2038074074074</td></tr><tr><td>South</td><td>United States</td><td>Georgia</td><td>49095.840000000004</td><td>705</td><td>2025-06-02</td><td>88.31545271739132</td></tr><tr><td>Central</td><td>United States</td><td>Minnesota</td><td>29863.149999999994</td><td>331</td><td>2025-06-02</td><td>121.60884719101125</td></tr><tr><td>South</td><td>United States</td><td>North Carolina</td><td>55603.16399999997</td><td>983</td><td>2025-06-02</td><td>-30.083984738955838</td></tr><tr><td>East</td><td>United States</td><td>Connecticut</td><td>13384.356999999996</td><td>281</td><td>2025-06-02</td><td>42.82307073170732</td></tr><tr><td>South</td><td>United States</td><td>South Carolina</td><td>8481.71</td><td>172</td><td>2025-06-02</td><td>42.12039523809525</td></tr><tr><td>South</td><td>United States</td><td>Mississippi</td><td>10771.34</td><td>221</td><td>2025-06-02</td><td>59.86747547169808</td></tr><tr><td>Central</td><td>United States</td><td>Illinois</td><td>80166.10099999986</td><td>1845</td><td>2025-06-02</td><td>-25.625786585365816</td></tr><tr><td>West</td><td>United States</td><td>Montana</td><td>5589.351999999997</td><td>56</td><td>2025-06-02</td><td>122.2219</td></tr><tr><td>West</td><td>United States</td><td>New Mexico</td><td>4783.521999999999</td><td>151</td><td>2025-06-02</td><td>31.273408108108107</td></tr><tr><td>West</td><td>United States</td><td>Washington</td><td>138641.26999999993</td><td>1883</td><td>2025-06-02</td><td>66.0131456521739</td></tr><tr><td>East</td><td>United States</td><td>Massachusetts</td><td>28634.433999999994</td><td>491</td><td>2025-06-02</td><td>50.262974814814854</td></tr><tr><td>South</td><td>United States</td><td>Alabama</td><td>19510.639999999992</td><td>256</td><td>2025-06-02</td><td>94.86598852459014</td></tr><tr><td>Central</td><td>United States</td><td>South Dakota</td><td>1315.5600000000002</td><td>42</td><td>2025-06-02</td><td>32.90235833333333</td></tr><tr><td>Central</td><td>United States</td><td>Nebraska</td><td>7464.9299999999985</td><td>136</td><td>2025-06-02</td><td>53.60774210526318</td></tr><tr><td>Central</td><td>United States</td><td>Indiana</td><td>53555.36</td><td>578</td><td>2025-06-02</td><td>123.37541140939601</td></tr><tr><td>Central</td><td>United States</td><td>Oklahoma</td><td>19683.39</td><td>247</td><td>2025-06-02</td><td>73.54478787878789</td></tr><tr><td>East</td><td>United States</td><td>New Jersey</td><td>35764.31200000001</td><td>454</td><td>2025-06-02</td><td>75.17626</td></tr><tr><td>West</td><td>United States</td><td>Oregon</td><td>17431.14999999999</td><td>499</td><td>2025-06-02</td><td>-9.600568548387091</td></tr><tr><td>South</td><td>United States</td><td>Kentucky</td><td>36591.74999999997</td><td>523</td><td>2025-06-02</td><td>80.5733568345324</td></tr><tr><td>East</td><td>United States</td><td>Maine</td><td>1270.5300000000002</td><td>35</td><td>2025-06-02</td><td>56.810775</td></tr><tr><td>East</td><td>United States</td><td>Vermont</td><td>8929.369999999999</td><td>50</td><td>2025-06-02</td><td>204.08893636363638</td></tr><tr><td>West</td><td>United States</td><td>California</td><td>457687.631500001</td><td>7667</td><td>2025-06-02</td><td>38.17160774612702</td></tr><tr><td>West</td><td>United States</td><td>Utah</td><td>11220.055999999999</td><td>219</td><td>2025-06-02</td><td>48.04780188679246</td></tr><tr><td>West</td><td>United States</td><td>Arizona</td><td>35282.001</td><td>862</td><td>2025-06-02</td><td>-15.303234821428571</td></tr><tr><td>East</td><td>United States</td><td>New York</td><td>310876.2709999998</td><td>4224</td><td>2025-06-02</td><td>65.63701117021282</td></tr><tr><td>West</td><td>United States</td><td>Colorado</td><td>32108.117999999995</td><td>693</td><td>2025-06-02</td><td>-35.8673510989011</td></tr><tr><td>West</td><td>United States</td><td>Wyoming</td><td>1603.136</td><td>4</td><td>2025-06-02</td><td>100.196</td></tr><tr><td>East</td><td>United States</td><td>Ohio</td><td>78258.13599999993</td><td>1759</td><td>2025-06-02</td><td>-36.18630405117275</td></tr><tr><td>Central</td><td>United States</td><td>North Dakota</td><td>919.91</td><td>30</td><td>2025-06-02</td><td>32.87852857142857</td></tr><tr><td>East</td><td>United States</td><td>Rhode Island</td><td>22627.955999999995</td><td>199</td><td>2025-06-02</td><td>130.10052321428574</td></tr><tr><td>West</td><td>United States</td><td>Nevada</td><td>16729.102</td><td>168</td><td>2025-06-02</td><td>85.04527948717949</td></tr><tr><td>South</td><td>United States</td><td>Tennessee</td><td>30661.87299999998</td><td>681</td><td>2025-06-02</td><td>-29.1895825136612</td></tr><tr><td>East</td><td>United States</td><td>District of Columbia</td><td>2865.0199999999995</td><td>40</td><td>2025-06-02</td><td>105.95892999999998</td></tr><tr><td>West</td><td>United States</td><td>Idaho</td><td>4382.486000000002</td><td>64</td><td>2025-06-02</td><td>39.36776666666666</td></tr><tr><td>South</td><td>United States</td><td>Florida</td><td>89473.708</td><td>1379</td><td>2025-06-02</td><td>-8.87546135770235</td></tr></tbody></table></div>"
      ]
     },
     "metadata": {
      "application/vnd.databricks.v1+output": {
       "addedWidgets": {},
       "aggData": [],
       "aggError": "",
       "aggOverflow": false,
       "aggSchema": [],
       "aggSeriesLimitReached": false,
       "aggType": "",
       "arguments": {},
       "columnCustomDisplayInfos": {},
       "data": [
        [
         "South",
         "United States",
         "Arkansas",
         11678.129999999997,
         240,
         "2025-06-02",
         66.81145166666667
        ],
        [
         "Central",
         "United States",
         "Michigan",
         76269.61400000002,
         946,
         "2025-06-02",
         95.93406901960782
        ],
        [
         "Central",
         "United States",
         "Kansas",
         2914.31,
         74,
         "2025-06-02",
         34.8518125
        ],
        [
         "South",
         "United States",
         "Virginia",
         70636.71999999999,
         893,
         "2025-06-02",
         83.02656428571429
        ],
        [
         "East",
         "United States",
         "Delaware",
         27451.068999999992,
         367,
         "2025-06-02",
         103.93098750000001
        ],
        [
         "East",
         "United States",
         "West Virginia",
         1209.824,
         18,
         "2025-06-02",
         46.4804
        ],
        [
         "Central",
         "United States",
         "Iowa",
         4579.759999999999,
         112,
         "2025-06-02",
         39.460396666666675
        ],
        [
         "East",
         "United States",
         "Pennsylvania",
         116511.91400000003,
         2153,
         "2025-06-02",
         -26.507598466780262
        ],
        [
         "South",
         "United States",
         "Louisiana",
         9217.029999999999,
         156,
         "2025-06-02",
         52.28815000000002
        ],
        [
         "Central",
         "United States",
         "Texas",
         170188.04580000002,
         3724,
         "2025-06-02",
         -26.12117390862944
        ],
        [
         "Central",
         "United States",
         "Missouri",
         22205.149999999998,
         252,
         "2025-06-02",
         97.5183409090909
        ],
        [
         "East",
         "United States",
         "Maryland",
         23705.523,
         420,
         "2025-06-02",
         66.9636076190476
        ],
        [
         "Central",
         "United States",
         "Wisconsin",
         32114.61000000002,
         463,
         "2025-06-02",
         76.38000363636363
        ],
        [
         "East",
         "United States",
         "New Hampshire",
         7292.523999999999,
         127,
         "2025-06-02",
         63.2038074074074
        ],
        [
         "South",
         "United States",
         "Georgia",
         49095.840000000004,
         705,
         "2025-06-02",
         88.31545271739132
        ],
        [
         "Central",
         "United States",
         "Minnesota",
         29863.149999999994,
         331,
         "2025-06-02",
         121.60884719101125
        ],
        [
         "South",
         "United States",
         "North Carolina",
         55603.16399999997,
         983,
         "2025-06-02",
         -30.083984738955838
        ],
        [
         "East",
         "United States",
         "Connecticut",
         13384.356999999996,
         281,
         "2025-06-02",
         42.82307073170732
        ],
        [
         "South",
         "United States",
         "South Carolina",
         8481.71,
         172,
         "2025-06-02",
         42.12039523809525
        ],
        [
         "South",
         "United States",
         "Mississippi",
         10771.34,
         221,
         "2025-06-02",
         59.86747547169808
        ],
        [
         "Central",
         "United States",
         "Illinois",
         80166.10099999986,
         1845,
         "2025-06-02",
         -25.625786585365816
        ],
        [
         "West",
         "United States",
         "Montana",
         5589.351999999997,
         56,
         "2025-06-02",
         122.2219
        ],
        [
         "West",
         "United States",
         "New Mexico",
         4783.521999999999,
         151,
         "2025-06-02",
         31.273408108108107
        ],
        [
         "West",
         "United States",
         "Washington",
         138641.26999999993,
         1883,
         "2025-06-02",
         66.0131456521739
        ],
        [
         "East",
         "United States",
         "Massachusetts",
         28634.433999999994,
         491,
         "2025-06-02",
         50.262974814814854
        ],
        [
         "South",
         "United States",
         "Alabama",
         19510.639999999992,
         256,
         "2025-06-02",
         94.86598852459014
        ],
        [
         "Central",
         "United States",
         "South Dakota",
         1315.5600000000002,
         42,
         "2025-06-02",
         32.90235833333333
        ],
        [
         "Central",
         "United States",
         "Nebraska",
         7464.9299999999985,
         136,
         "2025-06-02",
         53.60774210526318
        ],
        [
         "Central",
         "United States",
         "Indiana",
         53555.36,
         578,
         "2025-06-02",
         123.37541140939601
        ],
        [
         "Central",
         "United States",
         "Oklahoma",
         19683.39,
         247,
         "2025-06-02",
         73.54478787878789
        ],
        [
         "East",
         "United States",
         "New Jersey",
         35764.31200000001,
         454,
         "2025-06-02",
         75.17626
        ],
        [
         "West",
         "United States",
         "Oregon",
         17431.14999999999,
         499,
         "2025-06-02",
         -9.600568548387091
        ],
        [
         "South",
         "United States",
         "Kentucky",
         36591.74999999997,
         523,
         "2025-06-02",
         80.5733568345324
        ],
        [
         "East",
         "United States",
         "Maine",
         1270.5300000000002,
         35,
         "2025-06-02",
         56.810775
        ],
        [
         "East",
         "United States",
         "Vermont",
         8929.369999999999,
         50,
         "2025-06-02",
         204.08893636363638
        ],
        [
         "West",
         "United States",
         "California",
         457687.631500001,
         7667,
         "2025-06-02",
         38.17160774612702
        ],
        [
         "West",
         "United States",
         "Utah",
         11220.055999999999,
         219,
         "2025-06-02",
         48.04780188679246
        ],
        [
         "West",
         "United States",
         "Arizona",
         35282.001,
         862,
         "2025-06-02",
         -15.303234821428571
        ],
        [
         "East",
         "United States",
         "New York",
         310876.2709999998,
         4224,
         "2025-06-02",
         65.63701117021282
        ],
        [
         "West",
         "United States",
         "Colorado",
         32108.117999999995,
         693,
         "2025-06-02",
         -35.8673510989011
        ],
        [
         "West",
         "United States",
         "Wyoming",
         1603.136,
         4,
         "2025-06-02",
         100.196
        ],
        [
         "East",
         "United States",
         "Ohio",
         78258.13599999993,
         1759,
         "2025-06-02",
         -36.18630405117275
        ],
        [
         "Central",
         "United States",
         "North Dakota",
         919.91,
         30,
         "2025-06-02",
         32.87852857142857
        ],
        [
         "East",
         "United States",
         "Rhode Island",
         22627.955999999995,
         199,
         "2025-06-02",
         130.10052321428574
        ],
        [
         "West",
         "United States",
         "Nevada",
         16729.102,
         168,
         "2025-06-02",
         85.04527948717949
        ],
        [
         "South",
         "United States",
         "Tennessee",
         30661.87299999998,
         681,
         "2025-06-02",
         -29.1895825136612
        ],
        [
         "East",
         "United States",
         "District of Columbia",
         2865.0199999999995,
         40,
         "2025-06-02",
         105.95892999999998
        ],
        [
         "West",
         "United States",
         "Idaho",
         4382.486000000002,
         64,
         "2025-06-02",
         39.36776666666666
        ],
        [
         "South",
         "United States",
         "Florida",
         89473.708,
         1379,
         "2025-06-02",
         -8.87546135770235
        ]
       ],
       "datasetInfos": [],
       "dbfsResultPath": null,
       "isJsonSchema": true,
       "metadata": {},
       "overflow": false,
       "plotOptions": {
        "customPlotOptions": {},
        "displayType": "table",
        "pivotAggregation": null,
        "pivotColumns": null,
        "xColumns": null,
        "yColumns": null
       },
       "removedWidgets": [],
       "schema": [
        {
         "metadata": "{}",
         "name": "Region",
         "type": "\"string\""
        },
        {
         "metadata": "{}",
         "name": "Country",
         "type": "\"string\""
        },
        {
         "metadata": "{}",
         "name": "State",
         "type": "\"string\""
        },
        {
         "metadata": "{}",
         "name": "Sales",
         "type": "\"double\""
        },
        {
         "metadata": "{}",
         "name": "Quantity",
         "type": "\"integer\""
        },
        {
         "metadata": "{}",
         "name": "Snapshot_date",
         "type": "\"date\""
        },
        {
         "metadata": "{}",
         "name": "Profit",
         "type": "\"double\""
        }
       ],
       "type": "table"
      }
     },
     "output_type": "display_data"
    }
   ],
   "source": [
    "%sql\n",
    "select * from monthly_agg_orders where Snapshot_date='2025-06-02'--you can see that the Quantity column is integer here"
   ]
  },
  {
   "cell_type": "markdown",
   "metadata": {
    "application/vnd.databricks.v1+cell": {
     "cellMetadata": {},
     "inputWidgets": {},
     "nuid": "719ecb20-000c-4fd2-aeaa-df1173e230ea",
     "showTitle": false,
     "tableResultSettingsMap": {},
     "title": ""
    }
   },
   "source": [
    "Scenario 4: What if the order of the source columns has changed"
   ]
  },
  {
   "cell_type": "code",
   "execution_count": 0,
   "metadata": {
    "application/vnd.databricks.v1+cell": {
     "cellMetadata": {
      "byteLimit": 2048000,
      "implicitDf": true,
      "rowLimit": 10000
     },
     "inputWidgets": {},
     "nuid": "30ccc160-f38c-44a2-ab98-eb126ecdb18b",
     "showTitle": false,
     "tableResultSettingsMap": {},
     "title": ""
    }
   },
   "outputs": [
    {
     "output_type": "display_data",
     "data": {
      "text/html": [
       "<style scoped>\n",
       "  .table-result-container {\n",
       "    max-height: 300px;\n",
       "    overflow: auto;\n",
       "  }\n",
       "  table, th, td {\n",
       "    border: 1px solid black;\n",
       "    border-collapse: collapse;\n",
       "  }\n",
       "  th, td {\n",
       "    padding: 5px;\n",
       "  }\n",
       "  th {\n",
       "    text-align: left;\n",
       "  }\n",
       "</style><div class='table-result-container'><table class='table-result'><thead style='background-color: white'><tr></tr></thead><tbody></tbody></table></div>"
      ]
     },
     "metadata": {
      "application/vnd.databricks.v1+output": {
       "addedWidgets": {},
       "aggData": [],
       "aggError": "",
       "aggOverflow": false,
       "aggSchema": [],
       "aggSeriesLimitReached": false,
       "aggType": "",
       "arguments": {},
       "columnCustomDisplayInfos": {},
       "data": [],
       "datasetInfos": [],
       "dbfsResultPath": null,
       "isJsonSchema": true,
       "metadata": {},
       "overflow": false,
       "plotOptions": {
        "customPlotOptions": {},
        "displayType": "table",
        "pivotAggregation": null,
        "pivotColumns": null,
        "xColumns": null,
        "yColumns": null
       },
       "removedWidgets": [],
       "schema": [],
       "type": "table"
      }
     },
     "output_type": "display_data"
    }
   ],
   "source": [
    "%sql\n",
    "CREATE OR REPLACE TABLE default.daily_agg_orders \n",
    "(\n",
    "  Region STRING,\n",
    "  Country STRING,\n",
    "  State STRING,\n",
    "  Sales DOUBLE,\n",
    "  Profit DOUBLE,\n",
    "  Quantity DOUBLE -- previously, it was before Profit here \n",
    ")"
   ]
  },
  {
   "cell_type": "code",
   "execution_count": 0,
   "metadata": {
    "application/vnd.databricks.v1+cell": {
     "cellMetadata": {
      "byteLimit": 2048000,
      "implicitDf": true,
      "rowLimit": 10000
     },
     "inputWidgets": {},
     "nuid": "f3291122-9e67-4af3-8ee9-3b7f08655219",
     "showTitle": false,
     "tableResultSettingsMap": {},
     "title": ""
    }
   },
   "outputs": [
    {
     "output_type": "display_data",
     "data": {
      "text/html": [
       "<style scoped>\n",
       "  .table-result-container {\n",
       "    max-height: 300px;\n",
       "    overflow: auto;\n",
       "  }\n",
       "  table, th, td {\n",
       "    border: 1px solid black;\n",
       "    border-collapse: collapse;\n",
       "  }\n",
       "  th, td {\n",
       "    padding: 5px;\n",
       "  }\n",
       "  th {\n",
       "    text-align: left;\n",
       "  }\n",
       "</style><div class='table-result-container'><table class='table-result'><thead style='background-color: white'><tr><th>num_affected_rows</th><th>num_inserted_rows</th></tr></thead><tbody><tr><td>49</td><td>49</td></tr></tbody></table></div>"
      ]
     },
     "metadata": {
      "application/vnd.databricks.v1+output": {
       "addedWidgets": {},
       "aggData": [],
       "aggError": "",
       "aggOverflow": false,
       "aggSchema": [],
       "aggSeriesLimitReached": false,
       "aggType": "",
       "arguments": {},
       "columnCustomDisplayInfos": {},
       "data": [
        [
         49,
         49
        ]
       ],
       "datasetInfos": [],
       "dbfsResultPath": null,
       "isJsonSchema": true,
       "metadata": {},
       "overflow": false,
       "plotOptions": {
        "customPlotOptions": {},
        "displayType": "table",
        "pivotAggregation": null,
        "pivotColumns": null,
        "xColumns": null,
        "yColumns": null
       },
       "removedWidgets": [],
       "schema": [
        {
         "metadata": "{}",
         "name": "num_affected_rows",
         "type": "\"long\""
        },
        {
         "metadata": "{}",
         "name": "num_inserted_rows",
         "type": "\"long\""
        }
       ],
       "type": "table"
      }
     },
     "output_type": "display_data"
    }
   ],
   "source": [
    "%sql\n",
    "INSERT INTO default.daily_agg_orders\n",
    "SELECT Region,\n",
    "Country,\n",
    "State,\n",
    "SUM(sales) as Sales,\n",
    "AVG(Profit) as avg_Profit,\n",
    "SUM(Quantity) as Quantity\n",
    "from default.schema_evolution --this is just a simple superstore dataset\n",
    "group by 1,2,3"
   ]
  },
  {
   "cell_type": "markdown",
   "metadata": {
    "application/vnd.databricks.v1+cell": {
     "cellMetadata": {},
     "inputWidgets": {},
     "nuid": "85f8235c-452c-4dcc-87f6-36b77c092573",
     "showTitle": false,
     "tableResultSettingsMap": {},
     "title": ""
    }
   },
   "source": [
    "Lets see how schema evolution handles for current_date()+3 "
   ]
  },
  {
   "cell_type": "code",
   "execution_count": 0,
   "metadata": {
    "application/vnd.databricks.v1+cell": {
     "cellMetadata": {
      "byteLimit": 2048000,
      "rowLimit": 10000
     },
     "inputWidgets": {},
     "nuid": "16c93049-218d-4690-954f-93aa8d6b83ae",
     "showTitle": false,
     "tableResultSettingsMap": {},
     "title": ""
    }
   },
   "outputs": [
    {
     "output_type": "stream",
     "name": "stdout",
     "output_type": "stream",
     "text": [
      "Historical data updated sucessfully for 2025-05-31\n"
     ]
    }
   ],
   "source": [
    "from pyspark.sql import SparkSession\n",
    "from pyspark.sql.functions import current_date, lit\n",
    "from datetime import datetime \n",
    "\n",
    "spark=SparkSession.builder.appName(\"SchemaEvolution\").getOrCreate()\n",
    "\n",
    "#Get daily data \n",
    "current_orders = spark.table(\"default.daily_agg_orders\")\n",
    "\n",
    "#target schema\n",
    "target_table=\"default.monthly_agg_orders\"\n",
    "target_schema=spark.table(target_table).schema \n",
    "\n",
    "#Add date information \n",
    "Snapshot_date=datetime.now().strftime(\"%Y-%m-%d\")\n",
    "orders_with_snapshot=current_orders.withColumn(\"Snapshot_date\",current_date()+3) #here i have used current_date()+3 for demo purposes\n",
    "\n",
    "orders_with_snapshot=orders_with_snapshot.select(\n",
    "    *[col(field.name).cast(field.dataType) for field in target_schema]\n",
    ")\n",
    "\n",
    "#Appending data to the monthly table - using schema evolution. If there exists no table it will create automatically \n",
    "orders_with_snapshot.write\\\n",
    "    .format(\"delta\")\\\n",
    "    .option(\"mergeSchema\",\"true\")\\\n",
    "    .mode(\"append\")\\\n",
    "    .saveAsTable(target_table)\n",
    "print(f\"Historical data updated sucessfully for {Snapshot_date}\")"
   ]
  },
  {
   "cell_type": "code",
   "execution_count": 0,
   "metadata": {
    "application/vnd.databricks.v1+cell": {
     "cellMetadata": {
      "byteLimit": 2048000,
      "implicitDf": true,
      "rowLimit": 10000
     },
     "inputWidgets": {},
     "nuid": "8770a957-7959-4ff3-bd5f-7c8ef34365d3",
     "showTitle": false,
     "tableResultSettingsMap": {},
     "title": ""
    }
   },
   "outputs": [
    {
     "output_type": "display_data",
     "data": {
      "text/html": [
       "<style scoped>\n",
       "  .table-result-container {\n",
       "    max-height: 300px;\n",
       "    overflow: auto;\n",
       "  }\n",
       "  table, th, td {\n",
       "    border: 1px solid black;\n",
       "    border-collapse: collapse;\n",
       "  }\n",
       "  th, td {\n",
       "    padding: 5px;\n",
       "  }\n",
       "  th {\n",
       "    text-align: left;\n",
       "  }\n",
       "</style><div class='table-result-container'><table class='table-result'><thead style='background-color: white'><tr><th>Region</th><th>Country</th><th>State</th><th>Sales</th><th>Quantity</th><th>Snapshot_date</th><th>Profit</th></tr></thead><tbody><tr><td>South</td><td>United States</td><td>Arkansas</td><td>11678.129999999997</td><td>240</td><td>2025-06-03</td><td>66.81145166666667</td></tr><tr><td>Central</td><td>United States</td><td>Michigan</td><td>76269.61400000002</td><td>946</td><td>2025-06-03</td><td>95.93406901960782</td></tr><tr><td>Central</td><td>United States</td><td>Kansas</td><td>2914.31</td><td>74</td><td>2025-06-03</td><td>34.8518125</td></tr><tr><td>South</td><td>United States</td><td>Virginia</td><td>70636.71999999999</td><td>893</td><td>2025-06-03</td><td>83.02656428571429</td></tr><tr><td>East</td><td>United States</td><td>Delaware</td><td>27451.068999999992</td><td>367</td><td>2025-06-03</td><td>103.93098750000001</td></tr><tr><td>East</td><td>United States</td><td>West Virginia</td><td>1209.824</td><td>18</td><td>2025-06-03</td><td>46.4804</td></tr><tr><td>Central</td><td>United States</td><td>Iowa</td><td>4579.759999999999</td><td>112</td><td>2025-06-03</td><td>39.460396666666675</td></tr><tr><td>East</td><td>United States</td><td>Pennsylvania</td><td>116511.91400000003</td><td>2153</td><td>2025-06-03</td><td>-26.507598466780262</td></tr><tr><td>South</td><td>United States</td><td>Louisiana</td><td>9217.029999999999</td><td>156</td><td>2025-06-03</td><td>52.28815000000002</td></tr><tr><td>Central</td><td>United States</td><td>Texas</td><td>170188.04580000002</td><td>3724</td><td>2025-06-03</td><td>-26.12117390862944</td></tr><tr><td>Central</td><td>United States</td><td>Missouri</td><td>22205.149999999998</td><td>252</td><td>2025-06-03</td><td>97.5183409090909</td></tr><tr><td>East</td><td>United States</td><td>Maryland</td><td>23705.523</td><td>420</td><td>2025-06-03</td><td>66.9636076190476</td></tr><tr><td>Central</td><td>United States</td><td>Wisconsin</td><td>32114.61000000002</td><td>463</td><td>2025-06-03</td><td>76.38000363636363</td></tr><tr><td>East</td><td>United States</td><td>New Hampshire</td><td>7292.523999999999</td><td>127</td><td>2025-06-03</td><td>63.2038074074074</td></tr><tr><td>South</td><td>United States</td><td>Georgia</td><td>49095.840000000004</td><td>705</td><td>2025-06-03</td><td>88.31545271739132</td></tr><tr><td>Central</td><td>United States</td><td>Minnesota</td><td>29863.149999999994</td><td>331</td><td>2025-06-03</td><td>121.60884719101125</td></tr><tr><td>South</td><td>United States</td><td>North Carolina</td><td>55603.16399999997</td><td>983</td><td>2025-06-03</td><td>-30.083984738955838</td></tr><tr><td>East</td><td>United States</td><td>Connecticut</td><td>13384.356999999996</td><td>281</td><td>2025-06-03</td><td>42.82307073170732</td></tr><tr><td>South</td><td>United States</td><td>South Carolina</td><td>8481.71</td><td>172</td><td>2025-06-03</td><td>42.12039523809525</td></tr><tr><td>South</td><td>United States</td><td>Mississippi</td><td>10771.34</td><td>221</td><td>2025-06-03</td><td>59.86747547169808</td></tr><tr><td>Central</td><td>United States</td><td>Illinois</td><td>80166.10099999986</td><td>1845</td><td>2025-06-03</td><td>-25.625786585365816</td></tr><tr><td>West</td><td>United States</td><td>Montana</td><td>5589.351999999997</td><td>56</td><td>2025-06-03</td><td>122.2219</td></tr><tr><td>West</td><td>United States</td><td>New Mexico</td><td>4783.521999999999</td><td>151</td><td>2025-06-03</td><td>31.273408108108107</td></tr><tr><td>West</td><td>United States</td><td>Washington</td><td>138641.26999999993</td><td>1883</td><td>2025-06-03</td><td>66.0131456521739</td></tr><tr><td>East</td><td>United States</td><td>Massachusetts</td><td>28634.433999999994</td><td>491</td><td>2025-06-03</td><td>50.262974814814854</td></tr><tr><td>South</td><td>United States</td><td>Alabama</td><td>19510.639999999992</td><td>256</td><td>2025-06-03</td><td>94.86598852459014</td></tr><tr><td>Central</td><td>United States</td><td>South Dakota</td><td>1315.5600000000002</td><td>42</td><td>2025-06-03</td><td>32.90235833333333</td></tr><tr><td>Central</td><td>United States</td><td>Nebraska</td><td>7464.9299999999985</td><td>136</td><td>2025-06-03</td><td>53.60774210526318</td></tr><tr><td>Central</td><td>United States</td><td>Indiana</td><td>53555.36</td><td>578</td><td>2025-06-03</td><td>123.37541140939601</td></tr><tr><td>Central</td><td>United States</td><td>Oklahoma</td><td>19683.39</td><td>247</td><td>2025-06-03</td><td>73.54478787878789</td></tr><tr><td>East</td><td>United States</td><td>New Jersey</td><td>35764.31200000001</td><td>454</td><td>2025-06-03</td><td>75.17626</td></tr><tr><td>West</td><td>United States</td><td>Oregon</td><td>17431.14999999999</td><td>499</td><td>2025-06-03</td><td>-9.600568548387091</td></tr><tr><td>South</td><td>United States</td><td>Kentucky</td><td>36591.74999999997</td><td>523</td><td>2025-06-03</td><td>80.5733568345324</td></tr><tr><td>East</td><td>United States</td><td>Maine</td><td>1270.5300000000002</td><td>35</td><td>2025-06-03</td><td>56.810775</td></tr><tr><td>East</td><td>United States</td><td>Vermont</td><td>8929.369999999999</td><td>50</td><td>2025-06-03</td><td>204.08893636363638</td></tr><tr><td>West</td><td>United States</td><td>California</td><td>457687.631500001</td><td>7667</td><td>2025-06-03</td><td>38.17160774612702</td></tr><tr><td>West</td><td>United States</td><td>Utah</td><td>11220.055999999999</td><td>219</td><td>2025-06-03</td><td>48.04780188679246</td></tr><tr><td>West</td><td>United States</td><td>Arizona</td><td>35282.001</td><td>862</td><td>2025-06-03</td><td>-15.303234821428571</td></tr><tr><td>East</td><td>United States</td><td>New York</td><td>310876.2709999998</td><td>4224</td><td>2025-06-03</td><td>65.63701117021282</td></tr><tr><td>West</td><td>United States</td><td>Colorado</td><td>32108.117999999995</td><td>693</td><td>2025-06-03</td><td>-35.8673510989011</td></tr><tr><td>West</td><td>United States</td><td>Wyoming</td><td>1603.136</td><td>4</td><td>2025-06-03</td><td>100.196</td></tr><tr><td>East</td><td>United States</td><td>Ohio</td><td>78258.13599999993</td><td>1759</td><td>2025-06-03</td><td>-36.18630405117275</td></tr><tr><td>Central</td><td>United States</td><td>North Dakota</td><td>919.91</td><td>30</td><td>2025-06-03</td><td>32.87852857142857</td></tr><tr><td>East</td><td>United States</td><td>Rhode Island</td><td>22627.955999999995</td><td>199</td><td>2025-06-03</td><td>130.10052321428574</td></tr><tr><td>West</td><td>United States</td><td>Nevada</td><td>16729.102</td><td>168</td><td>2025-06-03</td><td>85.04527948717949</td></tr><tr><td>South</td><td>United States</td><td>Tennessee</td><td>30661.87299999998</td><td>681</td><td>2025-06-03</td><td>-29.1895825136612</td></tr><tr><td>East</td><td>United States</td><td>District of Columbia</td><td>2865.0199999999995</td><td>40</td><td>2025-06-03</td><td>105.95892999999998</td></tr><tr><td>West</td><td>United States</td><td>Idaho</td><td>4382.486000000002</td><td>64</td><td>2025-06-03</td><td>39.36776666666666</td></tr><tr><td>South</td><td>United States</td><td>Florida</td><td>89473.708</td><td>1379</td><td>2025-06-03</td><td>-8.87546135770235</td></tr></tbody></table></div>"
      ]
     },
     "metadata": {
      "application/vnd.databricks.v1+output": {
       "addedWidgets": {},
       "aggData": [],
       "aggError": "",
       "aggOverflow": false,
       "aggSchema": [],
       "aggSeriesLimitReached": false,
       "aggType": "",
       "arguments": {},
       "columnCustomDisplayInfos": {},
       "data": [
        [
         "South",
         "United States",
         "Arkansas",
         11678.129999999997,
         240,
         "2025-06-03",
         66.81145166666667
        ],
        [
         "Central",
         "United States",
         "Michigan",
         76269.61400000002,
         946,
         "2025-06-03",
         95.93406901960782
        ],
        [
         "Central",
         "United States",
         "Kansas",
         2914.31,
         74,
         "2025-06-03",
         34.8518125
        ],
        [
         "South",
         "United States",
         "Virginia",
         70636.71999999999,
         893,
         "2025-06-03",
         83.02656428571429
        ],
        [
         "East",
         "United States",
         "Delaware",
         27451.068999999992,
         367,
         "2025-06-03",
         103.93098750000001
        ],
        [
         "East",
         "United States",
         "West Virginia",
         1209.824,
         18,
         "2025-06-03",
         46.4804
        ],
        [
         "Central",
         "United States",
         "Iowa",
         4579.759999999999,
         112,
         "2025-06-03",
         39.460396666666675
        ],
        [
         "East",
         "United States",
         "Pennsylvania",
         116511.91400000003,
         2153,
         "2025-06-03",
         -26.507598466780262
        ],
        [
         "South",
         "United States",
         "Louisiana",
         9217.029999999999,
         156,
         "2025-06-03",
         52.28815000000002
        ],
        [
         "Central",
         "United States",
         "Texas",
         170188.04580000002,
         3724,
         "2025-06-03",
         -26.12117390862944
        ],
        [
         "Central",
         "United States",
         "Missouri",
         22205.149999999998,
         252,
         "2025-06-03",
         97.5183409090909
        ],
        [
         "East",
         "United States",
         "Maryland",
         23705.523,
         420,
         "2025-06-03",
         66.9636076190476
        ],
        [
         "Central",
         "United States",
         "Wisconsin",
         32114.61000000002,
         463,
         "2025-06-03",
         76.38000363636363
        ],
        [
         "East",
         "United States",
         "New Hampshire",
         7292.523999999999,
         127,
         "2025-06-03",
         63.2038074074074
        ],
        [
         "South",
         "United States",
         "Georgia",
         49095.840000000004,
         705,
         "2025-06-03",
         88.31545271739132
        ],
        [
         "Central",
         "United States",
         "Minnesota",
         29863.149999999994,
         331,
         "2025-06-03",
         121.60884719101125
        ],
        [
         "South",
         "United States",
         "North Carolina",
         55603.16399999997,
         983,
         "2025-06-03",
         -30.083984738955838
        ],
        [
         "East",
         "United States",
         "Connecticut",
         13384.356999999996,
         281,
         "2025-06-03",
         42.82307073170732
        ],
        [
         "South",
         "United States",
         "South Carolina",
         8481.71,
         172,
         "2025-06-03",
         42.12039523809525
        ],
        [
         "South",
         "United States",
         "Mississippi",
         10771.34,
         221,
         "2025-06-03",
         59.86747547169808
        ],
        [
         "Central",
         "United States",
         "Illinois",
         80166.10099999986,
         1845,
         "2025-06-03",
         -25.625786585365816
        ],
        [
         "West",
         "United States",
         "Montana",
         5589.351999999997,
         56,
         "2025-06-03",
         122.2219
        ],
        [
         "West",
         "United States",
         "New Mexico",
         4783.521999999999,
         151,
         "2025-06-03",
         31.273408108108107
        ],
        [
         "West",
         "United States",
         "Washington",
         138641.26999999993,
         1883,
         "2025-06-03",
         66.0131456521739
        ],
        [
         "East",
         "United States",
         "Massachusetts",
         28634.433999999994,
         491,
         "2025-06-03",
         50.262974814814854
        ],
        [
         "South",
         "United States",
         "Alabama",
         19510.639999999992,
         256,
         "2025-06-03",
         94.86598852459014
        ],
        [
         "Central",
         "United States",
         "South Dakota",
         1315.5600000000002,
         42,
         "2025-06-03",
         32.90235833333333
        ],
        [
         "Central",
         "United States",
         "Nebraska",
         7464.9299999999985,
         136,
         "2025-06-03",
         53.60774210526318
        ],
        [
         "Central",
         "United States",
         "Indiana",
         53555.36,
         578,
         "2025-06-03",
         123.37541140939601
        ],
        [
         "Central",
         "United States",
         "Oklahoma",
         19683.39,
         247,
         "2025-06-03",
         73.54478787878789
        ],
        [
         "East",
         "United States",
         "New Jersey",
         35764.31200000001,
         454,
         "2025-06-03",
         75.17626
        ],
        [
         "West",
         "United States",
         "Oregon",
         17431.14999999999,
         499,
         "2025-06-03",
         -9.600568548387091
        ],
        [
         "South",
         "United States",
         "Kentucky",
         36591.74999999997,
         523,
         "2025-06-03",
         80.5733568345324
        ],
        [
         "East",
         "United States",
         "Maine",
         1270.5300000000002,
         35,
         "2025-06-03",
         56.810775
        ],
        [
         "East",
         "United States",
         "Vermont",
         8929.369999999999,
         50,
         "2025-06-03",
         204.08893636363638
        ],
        [
         "West",
         "United States",
         "California",
         457687.631500001,
         7667,
         "2025-06-03",
         38.17160774612702
        ],
        [
         "West",
         "United States",
         "Utah",
         11220.055999999999,
         219,
         "2025-06-03",
         48.04780188679246
        ],
        [
         "West",
         "United States",
         "Arizona",
         35282.001,
         862,
         "2025-06-03",
         -15.303234821428571
        ],
        [
         "East",
         "United States",
         "New York",
         310876.2709999998,
         4224,
         "2025-06-03",
         65.63701117021282
        ],
        [
         "West",
         "United States",
         "Colorado",
         32108.117999999995,
         693,
         "2025-06-03",
         -35.8673510989011
        ],
        [
         "West",
         "United States",
         "Wyoming",
         1603.136,
         4,
         "2025-06-03",
         100.196
        ],
        [
         "East",
         "United States",
         "Ohio",
         78258.13599999993,
         1759,
         "2025-06-03",
         -36.18630405117275
        ],
        [
         "Central",
         "United States",
         "North Dakota",
         919.91,
         30,
         "2025-06-03",
         32.87852857142857
        ],
        [
         "East",
         "United States",
         "Rhode Island",
         22627.955999999995,
         199,
         "2025-06-03",
         130.10052321428574
        ],
        [
         "West",
         "United States",
         "Nevada",
         16729.102,
         168,
         "2025-06-03",
         85.04527948717949
        ],
        [
         "South",
         "United States",
         "Tennessee",
         30661.87299999998,
         681,
         "2025-06-03",
         -29.1895825136612
        ],
        [
         "East",
         "United States",
         "District of Columbia",
         2865.0199999999995,
         40,
         "2025-06-03",
         105.95892999999998
        ],
        [
         "West",
         "United States",
         "Idaho",
         4382.486000000002,
         64,
         "2025-06-03",
         39.36776666666666
        ],
        [
         "South",
         "United States",
         "Florida",
         89473.708,
         1379,
         "2025-06-03",
         -8.87546135770235
        ]
       ],
       "datasetInfos": [],
       "dbfsResultPath": null,
       "isJsonSchema": true,
       "metadata": {},
       "overflow": false,
       "plotOptions": {
        "customPlotOptions": {},
        "displayType": "table",
        "pivotAggregation": null,
        "pivotColumns": null,
        "xColumns": null,
        "yColumns": null
       },
       "removedWidgets": [],
       "schema": [
        {
         "metadata": "{}",
         "name": "Region",
         "type": "\"string\""
        },
        {
         "metadata": "{}",
         "name": "Country",
         "type": "\"string\""
        },
        {
         "metadata": "{}",
         "name": "State",
         "type": "\"string\""
        },
        {
         "metadata": "{}",
         "name": "Sales",
         "type": "\"double\""
        },
        {
         "metadata": "{}",
         "name": "Quantity",
         "type": "\"integer\""
        },
        {
         "metadata": "{}",
         "name": "Snapshot_date",
         "type": "\"date\""
        },
        {
         "metadata": "{}",
         "name": "Profit",
         "type": "\"double\""
        }
       ],
       "type": "table"
      }
     },
     "output_type": "display_data"
    }
   ],
   "source": [
    "%sql\n",
    "select * from monthly_agg_orders where Snapshot_date='2025-06-03'"
   ]
  }
 ],
 "metadata": {
  "application/vnd.databricks.v1+notebook": {
   "computePreferences": null,
   "dashboards": [],
   "environmentMetadata": {
    "base_environment": "",
    "environment_version": "1"
   },
   "inputWidgetPreferences": null,
   "language": "python",
   "notebookMetadata": {
    "mostRecentlyExecutedCommandWithImplicitDF": {
     "commandId": 583696069083643,
     "dataframes": [
      "_sqldf"
     ]
    },
    "pythonIndentUnit": 4
   },
   "notebookName": "Schema Evolution",
   "widgets": {}
  }
 },
 "nbformat": 4,
 "nbformat_minor": 0
}